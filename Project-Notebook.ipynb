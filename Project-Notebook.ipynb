{
 "cells": [
  {
   "cell_type": "markdown",
   "id": "be58d9da",
   "metadata": {},
   "source": [
    "# R-Initialization"
   ]
  },
  {
   "cell_type": "markdown",
   "id": "e3440af9",
   "metadata": {},
   "source": [
    "### R-Package Download"
   ]
  },
  {
   "cell_type": "code",
   "execution_count": 18,
   "id": "4f1e1fbd",
   "metadata": {},
   "outputs": [],
   "source": [
    "library(ggplot2) # For Plot Visualizations\n",
    "library(car) # For Variance Inflation Factor function -- vif()\n",
    "library(corrplot) # For Correlation Visualizations\n",
    "library(data.table) # For Complex Data Frame Joins"
   ]
  },
  {
   "cell_type": "markdown",
   "id": "27c329b1",
   "metadata": {},
   "source": [
    "# Data Initialization"
   ]
  },
  {
   "cell_type": "markdown",
   "id": "072b6df5",
   "metadata": {},
   "source": [
    "### Data Download"
   ]
  },
  {
   "cell_type": "code",
   "execution_count": 92,
   "id": "93537386",
   "metadata": {},
   "outputs": [],
   "source": [
    "# Downloading Vaccination Data\n",
    "vaccinations = read.csv(url(paste0(\"https://raw.githubusercontent.com/owid/covid-19-data/master/public/data/vaccinations/vaccinations.csv\")))\n",
    "\n",
    "# Downloading Testing Data\n",
    "testing = read.csv(url(paste0(\"https://raw.githubusercontent.com/owid/covid-19-data/master/public/data/testing/covid-testing-all-observations.csv\")))\n",
    "\n",
    "# Downloading Hospitalization Data\n",
    "hospitalization = read.csv(url(paste0(\"https://raw.githubusercontent.com/owid/covid-19-data/master/public/data/hospitalizations/covid-hospitalizations.csv\")))\n",
    "\n",
    "# Downloading Hospitalization Data\n",
    "deaths = read.csv(url(paste0(\"https://raw.githubusercontent.com/owid/covid-19-data/master/public/data/jhu/new_deaths_per_million.csv\")))\n",
    "# deaths = read.csv(url(paste0(\"https://raw.githubusercontent.com/owid/covid-19-data/master/public/data/jhu/full_data.csv\")))\n",
    "\n"
   ]
  },
  {
   "cell_type": "code",
   "execution_count": 93,
   "id": "e5635941",
   "metadata": {},
   "outputs": [
    {
     "data": {
      "text/html": [
       "<table>\n",
       "<thead><tr><th scope=col>location</th><th scope=col>iso_code</th><th scope=col>date</th><th scope=col>total_vaccinations</th><th scope=col>people_vaccinated</th><th scope=col>people_fully_vaccinated</th><th scope=col>total_boosters</th><th scope=col>daily_vaccinations_raw</th><th scope=col>daily_vaccinations</th><th scope=col>total_vaccinations_per_hundred</th><th scope=col>people_vaccinated_per_hundred</th><th scope=col>people_fully_vaccinated_per_hundred</th><th scope=col>total_boosters_per_hundred</th><th scope=col>daily_vaccinations_per_million</th><th scope=col>daily_people_vaccinated</th><th scope=col>daily_people_vaccinated_per_hundred</th></tr></thead>\n",
       "<tbody>\n",
       "\t<tr><td>Afghanistan</td><td>AFG        </td><td>2021-02-22 </td><td> 0         </td><td> 0         </td><td>NA         </td><td>NA         </td><td>NA         </td><td>  NA       </td><td> 0         </td><td> 0         </td><td>NA         </td><td>NA         </td><td>NA         </td><td>  NA       </td><td>   NA      </td></tr>\n",
       "\t<tr><td>Afghanistan</td><td>AFG        </td><td>2021-02-23 </td><td>NA         </td><td>NA         </td><td>NA         </td><td>NA         </td><td>NA         </td><td>1367       </td><td>NA         </td><td>NA         </td><td>NA         </td><td>NA         </td><td>33         </td><td>1367       </td><td>0.003      </td></tr>\n",
       "\t<tr><td>Afghanistan</td><td>AFG        </td><td>2021-02-24 </td><td>NA         </td><td>NA         </td><td>NA         </td><td>NA         </td><td>NA         </td><td>1367       </td><td>NA         </td><td>NA         </td><td>NA         </td><td>NA         </td><td>33         </td><td>1367       </td><td>0.003      </td></tr>\n",
       "\t<tr><td>Afghanistan</td><td>AFG        </td><td>2021-02-25 </td><td>NA         </td><td>NA         </td><td>NA         </td><td>NA         </td><td>NA         </td><td>1367       </td><td>NA         </td><td>NA         </td><td>NA         </td><td>NA         </td><td>33         </td><td>1367       </td><td>0.003      </td></tr>\n",
       "\t<tr><td>Afghanistan</td><td>AFG        </td><td>2021-02-26 </td><td>NA         </td><td>NA         </td><td>NA         </td><td>NA         </td><td>NA         </td><td>1367       </td><td>NA         </td><td>NA         </td><td>NA         </td><td>NA         </td><td>33         </td><td>1367       </td><td>0.003      </td></tr>\n",
       "\t<tr><td>Afghanistan</td><td>AFG        </td><td>2021-02-27 </td><td>NA         </td><td>NA         </td><td>NA         </td><td>NA         </td><td>NA         </td><td>1367       </td><td>NA         </td><td>NA         </td><td>NA         </td><td>NA         </td><td>33         </td><td>1367       </td><td>0.003      </td></tr>\n",
       "</tbody>\n",
       "</table>\n"
      ],
      "text/latex": [
       "\\begin{tabular}{r|llllllllllllllll}\n",
       " location & iso\\_code & date & total\\_vaccinations & people\\_vaccinated & people\\_fully\\_vaccinated & total\\_boosters & daily\\_vaccinations\\_raw & daily\\_vaccinations & total\\_vaccinations\\_per\\_hundred & people\\_vaccinated\\_per\\_hundred & people\\_fully\\_vaccinated\\_per\\_hundred & total\\_boosters\\_per\\_hundred & daily\\_vaccinations\\_per\\_million & daily\\_people\\_vaccinated & daily\\_people\\_vaccinated\\_per\\_hundred\\\\\n",
       "\\hline\n",
       "\t Afghanistan & AFG         & 2021-02-22  &  0          &  0          & NA          & NA          & NA          &   NA        &  0          &  0          & NA          & NA          & NA          &   NA        &    NA      \\\\\n",
       "\t Afghanistan & AFG         & 2021-02-23  & NA          & NA          & NA          & NA          & NA          & 1367        & NA          & NA          & NA          & NA          & 33          & 1367        & 0.003      \\\\\n",
       "\t Afghanistan & AFG         & 2021-02-24  & NA          & NA          & NA          & NA          & NA          & 1367        & NA          & NA          & NA          & NA          & 33          & 1367        & 0.003      \\\\\n",
       "\t Afghanistan & AFG         & 2021-02-25  & NA          & NA          & NA          & NA          & NA          & 1367        & NA          & NA          & NA          & NA          & 33          & 1367        & 0.003      \\\\\n",
       "\t Afghanistan & AFG         & 2021-02-26  & NA          & NA          & NA          & NA          & NA          & 1367        & NA          & NA          & NA          & NA          & 33          & 1367        & 0.003      \\\\\n",
       "\t Afghanistan & AFG         & 2021-02-27  & NA          & NA          & NA          & NA          & NA          & 1367        & NA          & NA          & NA          & NA          & 33          & 1367        & 0.003      \\\\\n",
       "\\end{tabular}\n"
      ],
      "text/markdown": [
       "\n",
       "| location | iso_code | date | total_vaccinations | people_vaccinated | people_fully_vaccinated | total_boosters | daily_vaccinations_raw | daily_vaccinations | total_vaccinations_per_hundred | people_vaccinated_per_hundred | people_fully_vaccinated_per_hundred | total_boosters_per_hundred | daily_vaccinations_per_million | daily_people_vaccinated | daily_people_vaccinated_per_hundred |\n",
       "|---|---|---|---|---|---|---|---|---|---|---|---|---|---|---|---|\n",
       "| Afghanistan | AFG         | 2021-02-22  |  0          |  0          | NA          | NA          | NA          |   NA        |  0          |  0          | NA          | NA          | NA          |   NA        |    NA       |\n",
       "| Afghanistan | AFG         | 2021-02-23  | NA          | NA          | NA          | NA          | NA          | 1367        | NA          | NA          | NA          | NA          | 33          | 1367        | 0.003       |\n",
       "| Afghanistan | AFG         | 2021-02-24  | NA          | NA          | NA          | NA          | NA          | 1367        | NA          | NA          | NA          | NA          | 33          | 1367        | 0.003       |\n",
       "| Afghanistan | AFG         | 2021-02-25  | NA          | NA          | NA          | NA          | NA          | 1367        | NA          | NA          | NA          | NA          | 33          | 1367        | 0.003       |\n",
       "| Afghanistan | AFG         | 2021-02-26  | NA          | NA          | NA          | NA          | NA          | 1367        | NA          | NA          | NA          | NA          | 33          | 1367        | 0.003       |\n",
       "| Afghanistan | AFG         | 2021-02-27  | NA          | NA          | NA          | NA          | NA          | 1367        | NA          | NA          | NA          | NA          | 33          | 1367        | 0.003       |\n",
       "\n"
      ],
      "text/plain": [
       "  location    iso_code date       total_vaccinations people_vaccinated\n",
       "1 Afghanistan AFG      2021-02-22  0                  0               \n",
       "2 Afghanistan AFG      2021-02-23 NA                 NA               \n",
       "3 Afghanistan AFG      2021-02-24 NA                 NA               \n",
       "4 Afghanistan AFG      2021-02-25 NA                 NA               \n",
       "5 Afghanistan AFG      2021-02-26 NA                 NA               \n",
       "6 Afghanistan AFG      2021-02-27 NA                 NA               \n",
       "  people_fully_vaccinated total_boosters daily_vaccinations_raw\n",
       "1 NA                      NA             NA                    \n",
       "2 NA                      NA             NA                    \n",
       "3 NA                      NA             NA                    \n",
       "4 NA                      NA             NA                    \n",
       "5 NA                      NA             NA                    \n",
       "6 NA                      NA             NA                    \n",
       "  daily_vaccinations total_vaccinations_per_hundred\n",
       "1   NA                0                            \n",
       "2 1367               NA                            \n",
       "3 1367               NA                            \n",
       "4 1367               NA                            \n",
       "5 1367               NA                            \n",
       "6 1367               NA                            \n",
       "  people_vaccinated_per_hundred people_fully_vaccinated_per_hundred\n",
       "1  0                            NA                                 \n",
       "2 NA                            NA                                 \n",
       "3 NA                            NA                                 \n",
       "4 NA                            NA                                 \n",
       "5 NA                            NA                                 \n",
       "6 NA                            NA                                 \n",
       "  total_boosters_per_hundred daily_vaccinations_per_million\n",
       "1 NA                         NA                            \n",
       "2 NA                         33                            \n",
       "3 NA                         33                            \n",
       "4 NA                         33                            \n",
       "5 NA                         33                            \n",
       "6 NA                         33                            \n",
       "  daily_people_vaccinated daily_people_vaccinated_per_hundred\n",
       "1   NA                       NA                              \n",
       "2 1367                    0.003                              \n",
       "3 1367                    0.003                              \n",
       "4 1367                    0.003                              \n",
       "5 1367                    0.003                              \n",
       "6 1367                    0.003                              "
      ]
     },
     "metadata": {},
     "output_type": "display_data"
    },
    {
     "data": {
      "text/html": [
       "<table>\n",
       "<thead><tr><th scope=col>Entity</th><th scope=col>ISO.code</th><th scope=col>Date</th><th scope=col>Source.URL</th><th scope=col>Source.label</th><th scope=col>Notes</th><th scope=col>Cumulative.total</th><th scope=col>Daily.change.in.cumulative.total</th><th scope=col>Cumulative.total.per.thousand</th><th scope=col>Daily.change.in.cumulative.total.per.thousand</th><th scope=col>X7.day.smoothed.daily.change</th><th scope=col>X7.day.smoothed.daily.change.per.thousand</th><th scope=col>Short.term.positive.rate</th><th scope=col>Short.term.tests.per.case</th></tr></thead>\n",
       "<tbody>\n",
       "\t<tr><td>Afghanistan - tests performed                                         </td><td>AFG                                                                   </td><td>2022-01-29                                                            </td><td>http://www.emro.who.int/images/stories/coronavirus/covid-sitrep-28.pdf</td><td>WHO Regional Office for the Eastern Mediterranean                     </td><td>                                                                      </td><td>853003                                                                </td><td>NA                                                                    </td><td>21.272                                                                </td><td>NA                                                                    </td><td>NA                                                                    </td><td>NA                                                                    </td><td>NA                                                                    </td><td>NA                                                                    </td></tr>\n",
       "\t<tr><td>Afghanistan - tests performed                                         </td><td>AFG                                                                   </td><td>2022-01-30                                                            </td><td>                                                                      </td><td>                                                                      </td><td>                                                                      </td><td>    NA                                                                </td><td>NA                                                                    </td><td>    NA                                                                </td><td>NA                                                                    </td><td>NA                                                                    </td><td>NA                                                                    </td><td>NA                                                                    </td><td>NA                                                                    </td></tr>\n",
       "\t<tr><td>Afghanistan - tests performed                                         </td><td>AFG                                                                   </td><td>2022-01-31                                                            </td><td>                                                                      </td><td>                                                                      </td><td>                                                                      </td><td>    NA                                                                </td><td>NA                                                                    </td><td>    NA                                                                </td><td>NA                                                                    </td><td>NA                                                                    </td><td>NA                                                                    </td><td>NA                                                                    </td><td>NA                                                                    </td></tr>\n",
       "\t<tr><td>Afghanistan - tests performed                                         </td><td>AFG                                                                   </td><td>2022-02-01                                                            </td><td>                                                                      </td><td>                                                                      </td><td>                                                                      </td><td>    NA                                                                </td><td>NA                                                                    </td><td>    NA                                                                </td><td>NA                                                                    </td><td>NA                                                                    </td><td>NA                                                                    </td><td>NA                                                                    </td><td>NA                                                                    </td></tr>\n",
       "\t<tr><td>Afghanistan - tests performed                                         </td><td>AFG                                                                   </td><td>2022-02-02                                                            </td><td>                                                                      </td><td>                                                                      </td><td>                                                                      </td><td>    NA                                                                </td><td>NA                                                                    </td><td>    NA                                                                </td><td>NA                                                                    </td><td>NA                                                                    </td><td>NA                                                                    </td><td>NA                                                                    </td><td>NA                                                                    </td></tr>\n",
       "\t<tr><td>Afghanistan - tests performed                                         </td><td>AFG                                                                   </td><td>2022-02-03                                                            </td><td>                                                                      </td><td>                                                                      </td><td>                                                                      </td><td>    NA                                                                </td><td>NA                                                                    </td><td>    NA                                                                </td><td>NA                                                                    </td><td>NA                                                                    </td><td>NA                                                                    </td><td>NA                                                                    </td><td>NA                                                                    </td></tr>\n",
       "</tbody>\n",
       "</table>\n"
      ],
      "text/latex": [
       "\\begin{tabular}{r|llllllllllllll}\n",
       " Entity & ISO.code & Date & Source.URL & Source.label & Notes & Cumulative.total & Daily.change.in.cumulative.total & Cumulative.total.per.thousand & Daily.change.in.cumulative.total.per.thousand & X7.day.smoothed.daily.change & X7.day.smoothed.daily.change.per.thousand & Short.term.positive.rate & Short.term.tests.per.case\\\\\n",
       "\\hline\n",
       "\t Afghanistan - tests performed                                          & AFG                                                                    & 2022-01-29                                                             & http://www.emro.who.int/images/stories/coronavirus/covid-sitrep-28.pdf & WHO Regional Office for the Eastern Mediterranean                      &                                                                        & 853003                                                                 & NA                                                                     & 21.272                                                                 & NA                                                                     & NA                                                                     & NA                                                                     & NA                                                                     & NA                                                                    \\\\\n",
       "\t Afghanistan - tests performed                                          & AFG                                                                    & 2022-01-30                                                             &                                                                        &                                                                        &                                                                        &     NA                                                                 & NA                                                                     &     NA                                                                 & NA                                                                     & NA                                                                     & NA                                                                     & NA                                                                     & NA                                                                    \\\\\n",
       "\t Afghanistan - tests performed                                          & AFG                                                                    & 2022-01-31                                                             &                                                                        &                                                                        &                                                                        &     NA                                                                 & NA                                                                     &     NA                                                                 & NA                                                                     & NA                                                                     & NA                                                                     & NA                                                                     & NA                                                                    \\\\\n",
       "\t Afghanistan - tests performed                                          & AFG                                                                    & 2022-02-01                                                             &                                                                        &                                                                        &                                                                        &     NA                                                                 & NA                                                                     &     NA                                                                 & NA                                                                     & NA                                                                     & NA                                                                     & NA                                                                     & NA                                                                    \\\\\n",
       "\t Afghanistan - tests performed                                          & AFG                                                                    & 2022-02-02                                                             &                                                                        &                                                                        &                                                                        &     NA                                                                 & NA                                                                     &     NA                                                                 & NA                                                                     & NA                                                                     & NA                                                                     & NA                                                                     & NA                                                                    \\\\\n",
       "\t Afghanistan - tests performed                                          & AFG                                                                    & 2022-02-03                                                             &                                                                        &                                                                        &                                                                        &     NA                                                                 & NA                                                                     &     NA                                                                 & NA                                                                     & NA                                                                     & NA                                                                     & NA                                                                     & NA                                                                    \\\\\n",
       "\\end{tabular}\n"
      ],
      "text/markdown": [
       "\n",
       "| Entity | ISO.code | Date | Source.URL | Source.label | Notes | Cumulative.total | Daily.change.in.cumulative.total | Cumulative.total.per.thousand | Daily.change.in.cumulative.total.per.thousand | X7.day.smoothed.daily.change | X7.day.smoothed.daily.change.per.thousand | Short.term.positive.rate | Short.term.tests.per.case |\n",
       "|---|---|---|---|---|---|---|---|---|---|---|---|---|---|\n",
       "| Afghanistan - tests performed                                          | AFG                                                                    | 2022-01-29                                                             | http://www.emro.who.int/images/stories/coronavirus/covid-sitrep-28.pdf | WHO Regional Office for the Eastern Mediterranean                      |                                                                        | 853003                                                                 | NA                                                                     | 21.272                                                                 | NA                                                                     | NA                                                                     | NA                                                                     | NA                                                                     | NA                                                                     |\n",
       "| Afghanistan - tests performed                                          | AFG                                                                    | 2022-01-30                                                             |                                                                        |                                                                        |                                                                        |     NA                                                                 | NA                                                                     |     NA                                                                 | NA                                                                     | NA                                                                     | NA                                                                     | NA                                                                     | NA                                                                     |\n",
       "| Afghanistan - tests performed                                          | AFG                                                                    | 2022-01-31                                                             |                                                                        |                                                                        |                                                                        |     NA                                                                 | NA                                                                     |     NA                                                                 | NA                                                                     | NA                                                                     | NA                                                                     | NA                                                                     | NA                                                                     |\n",
       "| Afghanistan - tests performed                                          | AFG                                                                    | 2022-02-01                                                             |                                                                        |                                                                        |                                                                        |     NA                                                                 | NA                                                                     |     NA                                                                 | NA                                                                     | NA                                                                     | NA                                                                     | NA                                                                     | NA                                                                     |\n",
       "| Afghanistan - tests performed                                          | AFG                                                                    | 2022-02-02                                                             |                                                                        |                                                                        |                                                                        |     NA                                                                 | NA                                                                     |     NA                                                                 | NA                                                                     | NA                                                                     | NA                                                                     | NA                                                                     | NA                                                                     |\n",
       "| Afghanistan - tests performed                                          | AFG                                                                    | 2022-02-03                                                             |                                                                        |                                                                        |                                                                        |     NA                                                                 | NA                                                                     |     NA                                                                 | NA                                                                     | NA                                                                     | NA                                                                     | NA                                                                     | NA                                                                     |\n",
       "\n"
      ],
      "text/plain": [
       "  Entity                        ISO.code Date      \n",
       "1 Afghanistan - tests performed AFG      2022-01-29\n",
       "2 Afghanistan - tests performed AFG      2022-01-30\n",
       "3 Afghanistan - tests performed AFG      2022-01-31\n",
       "4 Afghanistan - tests performed AFG      2022-02-01\n",
       "5 Afghanistan - tests performed AFG      2022-02-02\n",
       "6 Afghanistan - tests performed AFG      2022-02-03\n",
       "  Source.URL                                                            \n",
       "1 http://www.emro.who.int/images/stories/coronavirus/covid-sitrep-28.pdf\n",
       "2                                                                       \n",
       "3                                                                       \n",
       "4                                                                       \n",
       "5                                                                       \n",
       "6                                                                       \n",
       "  Source.label                                      Notes Cumulative.total\n",
       "1 WHO Regional Office for the Eastern Mediterranean       853003          \n",
       "2                                                             NA          \n",
       "3                                                             NA          \n",
       "4                                                             NA          \n",
       "5                                                             NA          \n",
       "6                                                             NA          \n",
       "  Daily.change.in.cumulative.total Cumulative.total.per.thousand\n",
       "1 NA                               21.272                       \n",
       "2 NA                                   NA                       \n",
       "3 NA                                   NA                       \n",
       "4 NA                                   NA                       \n",
       "5 NA                                   NA                       \n",
       "6 NA                                   NA                       \n",
       "  Daily.change.in.cumulative.total.per.thousand X7.day.smoothed.daily.change\n",
       "1 NA                                            NA                          \n",
       "2 NA                                            NA                          \n",
       "3 NA                                            NA                          \n",
       "4 NA                                            NA                          \n",
       "5 NA                                            NA                          \n",
       "6 NA                                            NA                          \n",
       "  X7.day.smoothed.daily.change.per.thousand Short.term.positive.rate\n",
       "1 NA                                        NA                      \n",
       "2 NA                                        NA                      \n",
       "3 NA                                        NA                      \n",
       "4 NA                                        NA                      \n",
       "5 NA                                        NA                      \n",
       "6 NA                                        NA                      \n",
       "  Short.term.tests.per.case\n",
       "1 NA                       \n",
       "2 NA                       \n",
       "3 NA                       \n",
       "4 NA                       \n",
       "5 NA                       \n",
       "6 NA                       "
      ]
     },
     "metadata": {},
     "output_type": "display_data"
    },
    {
     "data": {
      "text/html": [
       "<table>\n",
       "<thead><tr><th scope=col>entity</th><th scope=col>iso_code</th><th scope=col>date</th><th scope=col>indicator</th><th scope=col>value</th></tr></thead>\n",
       "<tbody>\n",
       "\t<tr><td>Algeria                        </td><td>DZA                            </td><td>2020-07-17                     </td><td>Daily ICU occupancy            </td><td>62.000                         </td></tr>\n",
       "\t<tr><td>Algeria                        </td><td>DZA                            </td><td>2020-07-17                     </td><td>Daily ICU occupancy per million</td><td> 1.381                         </td></tr>\n",
       "\t<tr><td>Algeria                        </td><td>DZA                            </td><td>2020-07-18                     </td><td>Daily ICU occupancy            </td><td>67.000                         </td></tr>\n",
       "\t<tr><td>Algeria                        </td><td>DZA                            </td><td>2020-07-18                     </td><td>Daily ICU occupancy per million</td><td> 1.492                         </td></tr>\n",
       "\t<tr><td>Algeria                        </td><td>DZA                            </td><td>2020-07-20                     </td><td>Daily ICU occupancy            </td><td>64.000                         </td></tr>\n",
       "\t<tr><td>Algeria                        </td><td>DZA                            </td><td>2020-07-20                     </td><td>Daily ICU occupancy per million</td><td> 1.425                         </td></tr>\n",
       "</tbody>\n",
       "</table>\n"
      ],
      "text/latex": [
       "\\begin{tabular}{r|lllll}\n",
       " entity & iso\\_code & date & indicator & value\\\\\n",
       "\\hline\n",
       "\t Algeria                         & DZA                             & 2020-07-17                      & Daily ICU occupancy             & 62.000                         \\\\\n",
       "\t Algeria                         & DZA                             & 2020-07-17                      & Daily ICU occupancy per million &  1.381                         \\\\\n",
       "\t Algeria                         & DZA                             & 2020-07-18                      & Daily ICU occupancy             & 67.000                         \\\\\n",
       "\t Algeria                         & DZA                             & 2020-07-18                      & Daily ICU occupancy per million &  1.492                         \\\\\n",
       "\t Algeria                         & DZA                             & 2020-07-20                      & Daily ICU occupancy             & 64.000                         \\\\\n",
       "\t Algeria                         & DZA                             & 2020-07-20                      & Daily ICU occupancy per million &  1.425                         \\\\\n",
       "\\end{tabular}\n"
      ],
      "text/markdown": [
       "\n",
       "| entity | iso_code | date | indicator | value |\n",
       "|---|---|---|---|---|\n",
       "| Algeria                         | DZA                             | 2020-07-17                      | Daily ICU occupancy             | 62.000                          |\n",
       "| Algeria                         | DZA                             | 2020-07-17                      | Daily ICU occupancy per million |  1.381                          |\n",
       "| Algeria                         | DZA                             | 2020-07-18                      | Daily ICU occupancy             | 67.000                          |\n",
       "| Algeria                         | DZA                             | 2020-07-18                      | Daily ICU occupancy per million |  1.492                          |\n",
       "| Algeria                         | DZA                             | 2020-07-20                      | Daily ICU occupancy             | 64.000                          |\n",
       "| Algeria                         | DZA                             | 2020-07-20                      | Daily ICU occupancy per million |  1.425                          |\n",
       "\n"
      ],
      "text/plain": [
       "  entity  iso_code date       indicator                       value \n",
       "1 Algeria DZA      2020-07-17 Daily ICU occupancy             62.000\n",
       "2 Algeria DZA      2020-07-17 Daily ICU occupancy per million  1.381\n",
       "3 Algeria DZA      2020-07-18 Daily ICU occupancy             67.000\n",
       "4 Algeria DZA      2020-07-18 Daily ICU occupancy per million  1.492\n",
       "5 Algeria DZA      2020-07-20 Daily ICU occupancy             64.000\n",
       "6 Algeria DZA      2020-07-20 Daily ICU occupancy per million  1.425"
      ]
     },
     "metadata": {},
     "output_type": "display_data"
    },
    {
     "data": {
      "text/html": [
       "<table>\n",
       "<thead><tr><th scope=col>date</th><th scope=col>World</th><th scope=col>Afghanistan</th><th scope=col>Africa</th><th scope=col>Albania</th><th scope=col>Algeria</th><th scope=col>Andorra</th><th scope=col>Angola</th><th scope=col>Anguilla</th><th scope=col>Antigua.and.Barbuda</th><th scope=col>...</th><th scope=col>Uruguay</th><th scope=col>Uzbekistan</th><th scope=col>Vanuatu</th><th scope=col>Vatican</th><th scope=col>Venezuela</th><th scope=col>Vietnam</th><th scope=col>Wallis.and.Futuna</th><th scope=col>Yemen</th><th scope=col>Zambia</th><th scope=col>Zimbabwe</th></tr></thead>\n",
       "<tbody>\n",
       "\t<tr><td>2020-01-22</td><td>0.000     </td><td>NA        </td><td>NA        </td><td>NA        </td><td>NA        </td><td>NA        </td><td>NA        </td><td>NA        </td><td>NA        </td><td>...       </td><td>NA        </td><td>NA        </td><td>NA        </td><td>NA        </td><td>NA        </td><td>NA        </td><td>NA        </td><td>NA        </td><td>NA        </td><td>NA        </td></tr>\n",
       "\t<tr><td>2020-01-23</td><td>0.000     </td><td>NA        </td><td>NA        </td><td>NA        </td><td>NA        </td><td>NA        </td><td>NA        </td><td>NA        </td><td>NA        </td><td>...       </td><td>NA        </td><td>NA        </td><td>NA        </td><td>NA        </td><td>NA        </td><td>NA        </td><td>NA        </td><td>NA        </td><td>NA        </td><td>NA        </td></tr>\n",
       "\t<tr><td>2020-01-24</td><td>0.001     </td><td>NA        </td><td>NA        </td><td>NA        </td><td>NA        </td><td>NA        </td><td>NA        </td><td>NA        </td><td>NA        </td><td>...       </td><td>NA        </td><td>NA        </td><td>NA        </td><td>NA        </td><td>NA        </td><td>NA        </td><td>NA        </td><td>NA        </td><td>NA        </td><td>NA        </td></tr>\n",
       "\t<tr><td>2020-01-25</td><td>0.002     </td><td>NA        </td><td>NA        </td><td>NA        </td><td>NA        </td><td>NA        </td><td>NA        </td><td>NA        </td><td>NA        </td><td>...       </td><td>NA        </td><td>NA        </td><td>NA        </td><td>NA        </td><td>NA        </td><td>NA        </td><td>NA        </td><td>NA        </td><td>NA        </td><td>NA        </td></tr>\n",
       "\t<tr><td>2020-01-26</td><td>0.002     </td><td>NA        </td><td>NA        </td><td>NA        </td><td>NA        </td><td>NA        </td><td>NA        </td><td>NA        </td><td>NA        </td><td>...       </td><td>NA        </td><td>NA        </td><td>NA        </td><td>NA        </td><td>NA        </td><td>NA        </td><td>NA        </td><td>NA        </td><td>NA        </td><td>NA        </td></tr>\n",
       "\t<tr><td>2020-01-27</td><td>0.003     </td><td>NA        </td><td>NA        </td><td>NA        </td><td>NA        </td><td>NA        </td><td>NA        </td><td>NA        </td><td>NA        </td><td>...       </td><td>NA        </td><td>NA        </td><td>NA        </td><td>NA        </td><td>NA        </td><td>NA        </td><td>NA        </td><td>NA        </td><td>NA        </td><td>NA        </td></tr>\n",
       "</tbody>\n",
       "</table>\n"
      ],
      "text/latex": [
       "\\begin{tabular}{r|llllllllllllllllllllllllllllllllllllllllllllllllllllllllllllllllllllllllllllllllllllllllllllllllllllllllllllllllllllllllllllllllllllllllllllllllllllllllllllllllllllllllllllllllllllllllllllllllllllllllllllllllllllllllllllllllllllllll}\n",
       " date & World & Afghanistan & Africa & Albania & Algeria & Andorra & Angola & Anguilla & Antigua.and.Barbuda & ... & Uruguay & Uzbekistan & Vanuatu & Vatican & Venezuela & Vietnam & Wallis.and.Futuna & Yemen & Zambia & Zimbabwe\\\\\n",
       "\\hline\n",
       "\t 2020-01-22 & 0.000      & NA         & NA         & NA         & NA         & NA         & NA         & NA         & NA         & ...        & NA         & NA         & NA         & NA         & NA         & NA         & NA         & NA         & NA         & NA        \\\\\n",
       "\t 2020-01-23 & 0.000      & NA         & NA         & NA         & NA         & NA         & NA         & NA         & NA         & ...        & NA         & NA         & NA         & NA         & NA         & NA         & NA         & NA         & NA         & NA        \\\\\n",
       "\t 2020-01-24 & 0.001      & NA         & NA         & NA         & NA         & NA         & NA         & NA         & NA         & ...        & NA         & NA         & NA         & NA         & NA         & NA         & NA         & NA         & NA         & NA        \\\\\n",
       "\t 2020-01-25 & 0.002      & NA         & NA         & NA         & NA         & NA         & NA         & NA         & NA         & ...        & NA         & NA         & NA         & NA         & NA         & NA         & NA         & NA         & NA         & NA        \\\\\n",
       "\t 2020-01-26 & 0.002      & NA         & NA         & NA         & NA         & NA         & NA         & NA         & NA         & ...        & NA         & NA         & NA         & NA         & NA         & NA         & NA         & NA         & NA         & NA        \\\\\n",
       "\t 2020-01-27 & 0.003      & NA         & NA         & NA         & NA         & NA         & NA         & NA         & NA         & ...        & NA         & NA         & NA         & NA         & NA         & NA         & NA         & NA         & NA         & NA        \\\\\n",
       "\\end{tabular}\n"
      ],
      "text/markdown": [
       "\n",
       "| date | World | Afghanistan | Africa | Albania | Algeria | Andorra | Angola | Anguilla | Antigua.and.Barbuda | ... | Uruguay | Uzbekistan | Vanuatu | Vatican | Venezuela | Vietnam | Wallis.and.Futuna | Yemen | Zambia | Zimbabwe |\n",
       "|---|---|---|---|---|---|---|---|---|---|---|---|---|---|---|---|---|---|---|---|---|\n",
       "| 2020-01-22 | 0.000      | NA         | NA         | NA         | NA         | NA         | NA         | NA         | NA         | ...        | NA         | NA         | NA         | NA         | NA         | NA         | NA         | NA         | NA         | NA         |\n",
       "| 2020-01-23 | 0.000      | NA         | NA         | NA         | NA         | NA         | NA         | NA         | NA         | ...        | NA         | NA         | NA         | NA         | NA         | NA         | NA         | NA         | NA         | NA         |\n",
       "| 2020-01-24 | 0.001      | NA         | NA         | NA         | NA         | NA         | NA         | NA         | NA         | ...        | NA         | NA         | NA         | NA         | NA         | NA         | NA         | NA         | NA         | NA         |\n",
       "| 2020-01-25 | 0.002      | NA         | NA         | NA         | NA         | NA         | NA         | NA         | NA         | ...        | NA         | NA         | NA         | NA         | NA         | NA         | NA         | NA         | NA         | NA         |\n",
       "| 2020-01-26 | 0.002      | NA         | NA         | NA         | NA         | NA         | NA         | NA         | NA         | ...        | NA         | NA         | NA         | NA         | NA         | NA         | NA         | NA         | NA         | NA         |\n",
       "| 2020-01-27 | 0.003      | NA         | NA         | NA         | NA         | NA         | NA         | NA         | NA         | ...        | NA         | NA         | NA         | NA         | NA         | NA         | NA         | NA         | NA         | NA         |\n",
       "\n"
      ],
      "text/plain": [
       "  date       World Afghanistan Africa Albania Algeria Andorra Angola Anguilla\n",
       "1 2020-01-22 0.000 NA          NA     NA      NA      NA      NA     NA      \n",
       "2 2020-01-23 0.000 NA          NA     NA      NA      NA      NA     NA      \n",
       "3 2020-01-24 0.001 NA          NA     NA      NA      NA      NA     NA      \n",
       "4 2020-01-25 0.002 NA          NA     NA      NA      NA      NA     NA      \n",
       "5 2020-01-26 0.002 NA          NA     NA      NA      NA      NA     NA      \n",
       "6 2020-01-27 0.003 NA          NA     NA      NA      NA      NA     NA      \n",
       "  Antigua.and.Barbuda ... Uruguay Uzbekistan Vanuatu Vatican Venezuela Vietnam\n",
       "1 NA                  ... NA      NA         NA      NA      NA        NA     \n",
       "2 NA                  ... NA      NA         NA      NA      NA        NA     \n",
       "3 NA                  ... NA      NA         NA      NA      NA        NA     \n",
       "4 NA                  ... NA      NA         NA      NA      NA        NA     \n",
       "5 NA                  ... NA      NA         NA      NA      NA        NA     \n",
       "6 NA                  ... NA      NA         NA      NA      NA        NA     \n",
       "  Wallis.and.Futuna Yemen Zambia Zimbabwe\n",
       "1 NA                NA    NA     NA      \n",
       "2 NA                NA    NA     NA      \n",
       "3 NA                NA    NA     NA      \n",
       "4 NA                NA    NA     NA      \n",
       "5 NA                NA    NA     NA      \n",
       "6 NA                NA    NA     NA      "
      ]
     },
     "metadata": {},
     "output_type": "display_data"
    }
   ],
   "source": [
    "head(vaccinations)\n",
    "head(testing)\n",
    "head(hospitalization)\n",
    "head(deaths)"
   ]
  },
  {
   "cell_type": "markdown",
   "id": "fcbe0174",
   "metadata": {},
   "source": [
    "### Data Cleanup"
   ]
  },
  {
   "cell_type": "code",
   "execution_count": 163,
   "id": "eb7842a7",
   "metadata": {},
   "outputs": [
    {
     "data": {
      "text/html": [
       "&lt;NA&gt;"
      ],
      "text/latex": [
       "<NA>"
      ],
      "text/markdown": [
       "&lt;NA&gt;"
      ],
      "text/plain": [
       "[1] NA"
      ]
     },
     "metadata": {},
     "output_type": "display_data"
    }
   ],
   "source": [
    "countries = colnames(deaths[-1]) # List of countries in deaths\n",
    "dates = deaths[1] # List of dates in deaths\n",
    "n_countries = length(countries) # Number of countries\n",
    "n_dates = length(dates[,1]) # Number of dates\n",
    "\n",
    "q = data.frame(date=rep(dates[,1],n_countries), # Sets date column equal to vector of dates in sequential order, repeating n_countries times\n",
    "                location=rep(countries,each=n_dates), # Sets location column to list of countries, each repeated n_dates times\n",
    "                deaths_per_mil=rep(NA,n_dates*n_countries)) # Sets NA for deaths_per_mil column\n",
    "\n",
    "for (i in 1:n_countries) { # Loop for each unique country\n",
    "    for (j in 1:n_dates) { # Loop for each unique date\n",
    "        q$deaths_per_mil[(i-1)*n_dates+j] = deaths[j,i+1] # Sets the NA value in deaths_per_mil at row\n",
    "        # (Current Country # - 1) * n_dates + Current Date # = deaths[Current Date #, Current Country # + Table Offset]\n",
    "    }\n",
    "}\n",
    "\n",
    "deaths = q # Changes deaths data table to the reformatted data frame for further processing\n"
   ]
  },
  {
   "cell_type": "code",
   "execution_count": 161,
   "id": "47189ec2",
   "metadata": {},
   "outputs": [
    {
     "data": {
      "text/html": [
       "<table>\n",
       "<thead><tr><th scope=col>Entity</th><th scope=col>ISO.code</th><th scope=col>date</th><th scope=col>Source.URL</th><th scope=col>Source.label</th><th scope=col>Notes</th><th scope=col>Cumulative.total</th><th scope=col>Daily.change.in.cumulative.total</th><th scope=col>Cumulative.total.per.thousand</th><th scope=col>Daily.change.in.cumulative.total.per.thousand</th><th scope=col>X7.day.smoothed.daily.change</th><th scope=col>X7.day.smoothed.daily.change.per.thousand</th><th scope=col>Short.term.positive.rate</th><th scope=col>Short.term.tests.per.case</th><th scope=col>location</th></tr></thead>\n",
       "<tbody>\n",
       "\t<tr><td>Afghanistan - tests performed                                         </td><td>AFG                                                                   </td><td>2022-01-29                                                            </td><td>http://www.emro.who.int/images/stories/coronavirus/covid-sitrep-28.pdf</td><td>WHO Regional Office for the Eastern Mediterranean                     </td><td>                                                                      </td><td>853003                                                                </td><td>NA                                                                    </td><td>21.272                                                                </td><td>NA                                                                    </td><td>NA                                                                    </td><td>NA                                                                    </td><td>NA                                                                    </td><td>NA                                                                    </td><td>Afghanistan                                                           </td></tr>\n",
       "\t<tr><td>Afghanistan - tests performed                                         </td><td>AFG                                                                   </td><td>2022-01-30                                                            </td><td>                                                                      </td><td>                                                                      </td><td>                                                                      </td><td>    NA                                                                </td><td>NA                                                                    </td><td>    NA                                                                </td><td>NA                                                                    </td><td>NA                                                                    </td><td>NA                                                                    </td><td>NA                                                                    </td><td>NA                                                                    </td><td>Afghanistan                                                           </td></tr>\n",
       "\t<tr><td>Afghanistan - tests performed                                         </td><td>AFG                                                                   </td><td>2022-01-31                                                            </td><td>                                                                      </td><td>                                                                      </td><td>                                                                      </td><td>    NA                                                                </td><td>NA                                                                    </td><td>    NA                                                                </td><td>NA                                                                    </td><td>NA                                                                    </td><td>NA                                                                    </td><td>NA                                                                    </td><td>NA                                                                    </td><td>Afghanistan                                                           </td></tr>\n",
       "\t<tr><td>Afghanistan - tests performed                                         </td><td>AFG                                                                   </td><td>2022-02-01                                                            </td><td>                                                                      </td><td>                                                                      </td><td>                                                                      </td><td>    NA                                                                </td><td>NA                                                                    </td><td>    NA                                                                </td><td>NA                                                                    </td><td>NA                                                                    </td><td>NA                                                                    </td><td>NA                                                                    </td><td>NA                                                                    </td><td>Afghanistan                                                           </td></tr>\n",
       "\t<tr><td>Afghanistan - tests performed                                         </td><td>AFG                                                                   </td><td>2022-02-02                                                            </td><td>                                                                      </td><td>                                                                      </td><td>                                                                      </td><td>    NA                                                                </td><td>NA                                                                    </td><td>    NA                                                                </td><td>NA                                                                    </td><td>NA                                                                    </td><td>NA                                                                    </td><td>NA                                                                    </td><td>NA                                                                    </td><td>Afghanistan                                                           </td></tr>\n",
       "\t<tr><td>Afghanistan - tests performed                                         </td><td>AFG                                                                   </td><td>2022-02-03                                                            </td><td>                                                                      </td><td>                                                                      </td><td>                                                                      </td><td>    NA                                                                </td><td>NA                                                                    </td><td>    NA                                                                </td><td>NA                                                                    </td><td>NA                                                                    </td><td>NA                                                                    </td><td>NA                                                                    </td><td>NA                                                                    </td><td>Afghanistan                                                           </td></tr>\n",
       "</tbody>\n",
       "</table>\n"
      ],
      "text/latex": [
       "\\begin{tabular}{r|lllllllllllllll}\n",
       " Entity & ISO.code & date & Source.URL & Source.label & Notes & Cumulative.total & Daily.change.in.cumulative.total & Cumulative.total.per.thousand & Daily.change.in.cumulative.total.per.thousand & X7.day.smoothed.daily.change & X7.day.smoothed.daily.change.per.thousand & Short.term.positive.rate & Short.term.tests.per.case & location\\\\\n",
       "\\hline\n",
       "\t Afghanistan - tests performed                                          & AFG                                                                    & 2022-01-29                                                             & http://www.emro.who.int/images/stories/coronavirus/covid-sitrep-28.pdf & WHO Regional Office for the Eastern Mediterranean                      &                                                                        & 853003                                                                 & NA                                                                     & 21.272                                                                 & NA                                                                     & NA                                                                     & NA                                                                     & NA                                                                     & NA                                                                     & Afghanistan                                                           \\\\\n",
       "\t Afghanistan - tests performed                                          & AFG                                                                    & 2022-01-30                                                             &                                                                        &                                                                        &                                                                        &     NA                                                                 & NA                                                                     &     NA                                                                 & NA                                                                     & NA                                                                     & NA                                                                     & NA                                                                     & NA                                                                     & Afghanistan                                                           \\\\\n",
       "\t Afghanistan - tests performed                                          & AFG                                                                    & 2022-01-31                                                             &                                                                        &                                                                        &                                                                        &     NA                                                                 & NA                                                                     &     NA                                                                 & NA                                                                     & NA                                                                     & NA                                                                     & NA                                                                     & NA                                                                     & Afghanistan                                                           \\\\\n",
       "\t Afghanistan - tests performed                                          & AFG                                                                    & 2022-02-01                                                             &                                                                        &                                                                        &                                                                        &     NA                                                                 & NA                                                                     &     NA                                                                 & NA                                                                     & NA                                                                     & NA                                                                     & NA                                                                     & NA                                                                     & Afghanistan                                                           \\\\\n",
       "\t Afghanistan - tests performed                                          & AFG                                                                    & 2022-02-02                                                             &                                                                        &                                                                        &                                                                        &     NA                                                                 & NA                                                                     &     NA                                                                 & NA                                                                     & NA                                                                     & NA                                                                     & NA                                                                     & NA                                                                     & Afghanistan                                                           \\\\\n",
       "\t Afghanistan - tests performed                                          & AFG                                                                    & 2022-02-03                                                             &                                                                        &                                                                        &                                                                        &     NA                                                                 & NA                                                                     &     NA                                                                 & NA                                                                     & NA                                                                     & NA                                                                     & NA                                                                     & NA                                                                     & Afghanistan                                                           \\\\\n",
       "\\end{tabular}\n"
      ],
      "text/markdown": [
       "\n",
       "| Entity | ISO.code | date | Source.URL | Source.label | Notes | Cumulative.total | Daily.change.in.cumulative.total | Cumulative.total.per.thousand | Daily.change.in.cumulative.total.per.thousand | X7.day.smoothed.daily.change | X7.day.smoothed.daily.change.per.thousand | Short.term.positive.rate | Short.term.tests.per.case | location |\n",
       "|---|---|---|---|---|---|---|---|---|---|---|---|---|---|---|\n",
       "| Afghanistan - tests performed                                          | AFG                                                                    | 2022-01-29                                                             | http://www.emro.who.int/images/stories/coronavirus/covid-sitrep-28.pdf | WHO Regional Office for the Eastern Mediterranean                      |                                                                        | 853003                                                                 | NA                                                                     | 21.272                                                                 | NA                                                                     | NA                                                                     | NA                                                                     | NA                                                                     | NA                                                                     | Afghanistan                                                            |\n",
       "| Afghanistan - tests performed                                          | AFG                                                                    | 2022-01-30                                                             |                                                                        |                                                                        |                                                                        |     NA                                                                 | NA                                                                     |     NA                                                                 | NA                                                                     | NA                                                                     | NA                                                                     | NA                                                                     | NA                                                                     | Afghanistan                                                            |\n",
       "| Afghanistan - tests performed                                          | AFG                                                                    | 2022-01-31                                                             |                                                                        |                                                                        |                                                                        |     NA                                                                 | NA                                                                     |     NA                                                                 | NA                                                                     | NA                                                                     | NA                                                                     | NA                                                                     | NA                                                                     | Afghanistan                                                            |\n",
       "| Afghanistan - tests performed                                          | AFG                                                                    | 2022-02-01                                                             |                                                                        |                                                                        |                                                                        |     NA                                                                 | NA                                                                     |     NA                                                                 | NA                                                                     | NA                                                                     | NA                                                                     | NA                                                                     | NA                                                                     | Afghanistan                                                            |\n",
       "| Afghanistan - tests performed                                          | AFG                                                                    | 2022-02-02                                                             |                                                                        |                                                                        |                                                                        |     NA                                                                 | NA                                                                     |     NA                                                                 | NA                                                                     | NA                                                                     | NA                                                                     | NA                                                                     | NA                                                                     | Afghanistan                                                            |\n",
       "| Afghanistan - tests performed                                          | AFG                                                                    | 2022-02-03                                                             |                                                                        |                                                                        |                                                                        |     NA                                                                 | NA                                                                     |     NA                                                                 | NA                                                                     | NA                                                                     | NA                                                                     | NA                                                                     | NA                                                                     | Afghanistan                                                            |\n",
       "\n"
      ],
      "text/plain": [
       "  Entity                        ISO.code date      \n",
       "1 Afghanistan - tests performed AFG      2022-01-29\n",
       "2 Afghanistan - tests performed AFG      2022-01-30\n",
       "3 Afghanistan - tests performed AFG      2022-01-31\n",
       "4 Afghanistan - tests performed AFG      2022-02-01\n",
       "5 Afghanistan - tests performed AFG      2022-02-02\n",
       "6 Afghanistan - tests performed AFG      2022-02-03\n",
       "  Source.URL                                                            \n",
       "1 http://www.emro.who.int/images/stories/coronavirus/covid-sitrep-28.pdf\n",
       "2                                                                       \n",
       "3                                                                       \n",
       "4                                                                       \n",
       "5                                                                       \n",
       "6                                                                       \n",
       "  Source.label                                      Notes Cumulative.total\n",
       "1 WHO Regional Office for the Eastern Mediterranean       853003          \n",
       "2                                                             NA          \n",
       "3                                                             NA          \n",
       "4                                                             NA          \n",
       "5                                                             NA          \n",
       "6                                                             NA          \n",
       "  Daily.change.in.cumulative.total Cumulative.total.per.thousand\n",
       "1 NA                               21.272                       \n",
       "2 NA                                   NA                       \n",
       "3 NA                                   NA                       \n",
       "4 NA                                   NA                       \n",
       "5 NA                                   NA                       \n",
       "6 NA                                   NA                       \n",
       "  Daily.change.in.cumulative.total.per.thousand X7.day.smoothed.daily.change\n",
       "1 NA                                            NA                          \n",
       "2 NA                                            NA                          \n",
       "3 NA                                            NA                          \n",
       "4 NA                                            NA                          \n",
       "5 NA                                            NA                          \n",
       "6 NA                                            NA                          \n",
       "  X7.day.smoothed.daily.change.per.thousand Short.term.positive.rate\n",
       "1 NA                                        NA                      \n",
       "2 NA                                        NA                      \n",
       "3 NA                                        NA                      \n",
       "4 NA                                        NA                      \n",
       "5 NA                                        NA                      \n",
       "6 NA                                        NA                      \n",
       "  Short.term.tests.per.case location   \n",
       "1 NA                        Afghanistan\n",
       "2 NA                        Afghanistan\n",
       "3 NA                        Afghanistan\n",
       "4 NA                        Afghanistan\n",
       "5 NA                        Afghanistan\n",
       "6 NA                        Afghanistan"
      ]
     },
     "metadata": {},
     "output_type": "display_data"
    },
    {
     "data": {
      "text/html": [
       "<table>\n",
       "<thead><tr><th scope=col>location</th><th scope=col>iso_code</th><th scope=col>date</th><th scope=col>indicator</th><th scope=col>value</th></tr></thead>\n",
       "<tbody>\n",
       "\t<tr><td>Algeria                        </td><td>DZA                            </td><td>2020-07-17                     </td><td>Daily ICU occupancy            </td><td>62.000                         </td></tr>\n",
       "\t<tr><td>Algeria                        </td><td>DZA                            </td><td>2020-07-17                     </td><td>Daily ICU occupancy per million</td><td> 1.381                         </td></tr>\n",
       "\t<tr><td>Algeria                        </td><td>DZA                            </td><td>2020-07-18                     </td><td>Daily ICU occupancy            </td><td>67.000                         </td></tr>\n",
       "\t<tr><td>Algeria                        </td><td>DZA                            </td><td>2020-07-18                     </td><td>Daily ICU occupancy per million</td><td> 1.492                         </td></tr>\n",
       "\t<tr><td>Algeria                        </td><td>DZA                            </td><td>2020-07-20                     </td><td>Daily ICU occupancy            </td><td>64.000                         </td></tr>\n",
       "\t<tr><td>Algeria                        </td><td>DZA                            </td><td>2020-07-20                     </td><td>Daily ICU occupancy per million</td><td> 1.425                         </td></tr>\n",
       "</tbody>\n",
       "</table>\n"
      ],
      "text/latex": [
       "\\begin{tabular}{r|lllll}\n",
       " location & iso\\_code & date & indicator & value\\\\\n",
       "\\hline\n",
       "\t Algeria                         & DZA                             & 2020-07-17                      & Daily ICU occupancy             & 62.000                         \\\\\n",
       "\t Algeria                         & DZA                             & 2020-07-17                      & Daily ICU occupancy per million &  1.381                         \\\\\n",
       "\t Algeria                         & DZA                             & 2020-07-18                      & Daily ICU occupancy             & 67.000                         \\\\\n",
       "\t Algeria                         & DZA                             & 2020-07-18                      & Daily ICU occupancy per million &  1.492                         \\\\\n",
       "\t Algeria                         & DZA                             & 2020-07-20                      & Daily ICU occupancy             & 64.000                         \\\\\n",
       "\t Algeria                         & DZA                             & 2020-07-20                      & Daily ICU occupancy per million &  1.425                         \\\\\n",
       "\\end{tabular}\n"
      ],
      "text/markdown": [
       "\n",
       "| location | iso_code | date | indicator | value |\n",
       "|---|---|---|---|---|\n",
       "| Algeria                         | DZA                             | 2020-07-17                      | Daily ICU occupancy             | 62.000                          |\n",
       "| Algeria                         | DZA                             | 2020-07-17                      | Daily ICU occupancy per million |  1.381                          |\n",
       "| Algeria                         | DZA                             | 2020-07-18                      | Daily ICU occupancy             | 67.000                          |\n",
       "| Algeria                         | DZA                             | 2020-07-18                      | Daily ICU occupancy per million |  1.492                          |\n",
       "| Algeria                         | DZA                             | 2020-07-20                      | Daily ICU occupancy             | 64.000                          |\n",
       "| Algeria                         | DZA                             | 2020-07-20                      | Daily ICU occupancy per million |  1.425                          |\n",
       "\n"
      ],
      "text/plain": [
       "  location iso_code date       indicator                       value \n",
       "1 Algeria  DZA      2020-07-17 Daily ICU occupancy             62.000\n",
       "2 Algeria  DZA      2020-07-17 Daily ICU occupancy per million  1.381\n",
       "3 Algeria  DZA      2020-07-18 Daily ICU occupancy             67.000\n",
       "4 Algeria  DZA      2020-07-18 Daily ICU occupancy per million  1.492\n",
       "5 Algeria  DZA      2020-07-20 Daily ICU occupancy             64.000\n",
       "6 Algeria  DZA      2020-07-20 Daily ICU occupancy per million  1.425"
      ]
     },
     "metadata": {},
     "output_type": "display_data"
    }
   ],
   "source": [
    "testing <- transform(testing,location=sub(\" .*\", \"\", Entity)) # Creates location column, using regex on Entity column\n",
    "colnames(testing)[colnames(testing)==\"Date\"]=\"date\" # Renames Date column to date\n",
    "colnames(hospitalization)[colnames(hospitalization)==\"entity\"]=\"location\" # Renames Date column to date\n",
    "# Restructure deaths\n",
    "\n",
    "head(testing)\n",
    "head(hospitalization)\n",
    "# hospitalization"
   ]
  },
  {
   "cell_type": "markdown",
   "id": "1634dc37",
   "metadata": {},
   "source": [
    "# Data Analyses"
   ]
  },
  {
   "cell_type": "markdown",
   "id": "0f235a47",
   "metadata": {},
   "source": [
    "### Method 1:\n",
    "\n",
    "We are looking purely at the deaths as a function of everything else. This being `Date`, `Location`, `Daily Testing`, `Daily ICU Occipancy`. We are looking at this as a density, to allow for better comparison between countries of different population magnitudes. We merge our data into a set:"
   ]
  },
  {
   "cell_type": "code",
   "execution_count": 89,
   "id": "f61a9488",
   "metadata": {},
   "outputs": [
    {
     "data": {
      "text/html": [
       "<table>\n",
       "<thead><tr><th scope=col>date</th><th scope=col>location</th><th scope=col>new_cases</th><th scope=col>new_deaths</th><th scope=col>total_cases</th><th scope=col>total_deaths</th><th scope=col>weekly_cases</th><th scope=col>weekly_deaths</th><th scope=col>biweekly_cases</th><th scope=col>biweekly_deaths</th><th scope=col>...</th><th scope=col>Daily.change.in.cumulative.total</th><th scope=col>Cumulative.total.per.thousand</th><th scope=col>Daily.change.in.cumulative.total.per.thousand</th><th scope=col>X7.day.smoothed.daily.change</th><th scope=col>X7.day.smoothed.daily.change.per.thousand</th><th scope=col>Short.term.positive.rate</th><th scope=col>Short.term.tests.per.case</th><th scope=col>i.iso_code</th><th scope=col>indicator</th><th scope=col>value</th></tr></thead>\n",
       "<tbody>\n",
       "\t<tr><td>2020-07-17                     </td><td>Algeria                        </td><td>NA                             </td><td>NA                             </td><td>NA                             </td><td>NA                             </td><td>NA                             </td><td>NA                             </td><td>NA                             </td><td>NA                             </td><td>...                            </td><td>NA                             </td><td>NA                             </td><td>NA                             </td><td>NA                             </td><td>NA                             </td><td>NA                             </td><td>NA                             </td><td>DZA                            </td><td>Daily ICU occupancy            </td><td>62.000                         </td></tr>\n",
       "\t<tr><td>2020-07-17                     </td><td>Algeria                        </td><td>NA                             </td><td>NA                             </td><td>NA                             </td><td>NA                             </td><td>NA                             </td><td>NA                             </td><td>NA                             </td><td>NA                             </td><td>...                            </td><td>NA                             </td><td>NA                             </td><td>NA                             </td><td>NA                             </td><td>NA                             </td><td>NA                             </td><td>NA                             </td><td>DZA                            </td><td>Daily ICU occupancy per million</td><td> 1.381                         </td></tr>\n",
       "\t<tr><td>2020-07-18                     </td><td>Algeria                        </td><td>NA                             </td><td>NA                             </td><td>NA                             </td><td>NA                             </td><td>NA                             </td><td>NA                             </td><td>NA                             </td><td>NA                             </td><td>...                            </td><td>NA                             </td><td>NA                             </td><td>NA                             </td><td>NA                             </td><td>NA                             </td><td>NA                             </td><td>NA                             </td><td>DZA                            </td><td>Daily ICU occupancy            </td><td>67.000                         </td></tr>\n",
       "\t<tr><td>2020-07-18                     </td><td>Algeria                        </td><td>NA                             </td><td>NA                             </td><td>NA                             </td><td>NA                             </td><td>NA                             </td><td>NA                             </td><td>NA                             </td><td>NA                             </td><td>...                            </td><td>NA                             </td><td>NA                             </td><td>NA                             </td><td>NA                             </td><td>NA                             </td><td>NA                             </td><td>NA                             </td><td>DZA                            </td><td>Daily ICU occupancy per million</td><td> 1.492                         </td></tr>\n",
       "\t<tr><td>2020-07-20                     </td><td>Algeria                        </td><td>NA                             </td><td>NA                             </td><td>NA                             </td><td>NA                             </td><td>NA                             </td><td>NA                             </td><td>NA                             </td><td>NA                             </td><td>...                            </td><td>NA                             </td><td>NA                             </td><td>NA                             </td><td>NA                             </td><td>NA                             </td><td>NA                             </td><td>NA                             </td><td>DZA                            </td><td>Daily ICU occupancy            </td><td>64.000                         </td></tr>\n",
       "\t<tr><td>2020-07-20                     </td><td>Algeria                        </td><td>NA                             </td><td>NA                             </td><td>NA                             </td><td>NA                             </td><td>NA                             </td><td>NA                             </td><td>NA                             </td><td>NA                             </td><td>...                            </td><td>NA                             </td><td>NA                             </td><td>NA                             </td><td>NA                             </td><td>NA                             </td><td>NA                             </td><td>NA                             </td><td>DZA                            </td><td>Daily ICU occupancy per million</td><td> 1.425                         </td></tr>\n",
       "</tbody>\n",
       "</table>\n"
      ],
      "text/latex": [
       "\\begin{tabular}{r|llllllllllllllllllllllllllllllllllllllll}\n",
       " date & location & new\\_cases & new\\_deaths & total\\_cases & total\\_deaths & weekly\\_cases & weekly\\_deaths & biweekly\\_cases & biweekly\\_deaths & ... & Daily.change.in.cumulative.total & Cumulative.total.per.thousand & Daily.change.in.cumulative.total.per.thousand & X7.day.smoothed.daily.change & X7.day.smoothed.daily.change.per.thousand & Short.term.positive.rate & Short.term.tests.per.case & i.iso\\_code & indicator & value\\\\\n",
       "\\hline\n",
       "\t 2020-07-17                      & Algeria                         & NA                              & NA                              & NA                              & NA                              & NA                              & NA                              & NA                              & NA                              & ...                             & NA                              & NA                              & NA                              & NA                              & NA                              & NA                              & NA                              & DZA                             & Daily ICU occupancy             & 62.000                         \\\\\n",
       "\t 2020-07-17                      & Algeria                         & NA                              & NA                              & NA                              & NA                              & NA                              & NA                              & NA                              & NA                              & ...                             & NA                              & NA                              & NA                              & NA                              & NA                              & NA                              & NA                              & DZA                             & Daily ICU occupancy per million &  1.381                         \\\\\n",
       "\t 2020-07-18                      & Algeria                         & NA                              & NA                              & NA                              & NA                              & NA                              & NA                              & NA                              & NA                              & ...                             & NA                              & NA                              & NA                              & NA                              & NA                              & NA                              & NA                              & DZA                             & Daily ICU occupancy             & 67.000                         \\\\\n",
       "\t 2020-07-18                      & Algeria                         & NA                              & NA                              & NA                              & NA                              & NA                              & NA                              & NA                              & NA                              & ...                             & NA                              & NA                              & NA                              & NA                              & NA                              & NA                              & NA                              & DZA                             & Daily ICU occupancy per million &  1.492                         \\\\\n",
       "\t 2020-07-20                      & Algeria                         & NA                              & NA                              & NA                              & NA                              & NA                              & NA                              & NA                              & NA                              & ...                             & NA                              & NA                              & NA                              & NA                              & NA                              & NA                              & NA                              & DZA                             & Daily ICU occupancy             & 64.000                         \\\\\n",
       "\t 2020-07-20                      & Algeria                         & NA                              & NA                              & NA                              & NA                              & NA                              & NA                              & NA                              & NA                              & ...                             & NA                              & NA                              & NA                              & NA                              & NA                              & NA                              & NA                              & DZA                             & Daily ICU occupancy per million &  1.425                         \\\\\n",
       "\\end{tabular}\n"
      ],
      "text/markdown": [
       "\n",
       "| date | location | new_cases | new_deaths | total_cases | total_deaths | weekly_cases | weekly_deaths | biweekly_cases | biweekly_deaths | ... | Daily.change.in.cumulative.total | Cumulative.total.per.thousand | Daily.change.in.cumulative.total.per.thousand | X7.day.smoothed.daily.change | X7.day.smoothed.daily.change.per.thousand | Short.term.positive.rate | Short.term.tests.per.case | i.iso_code | indicator | value |\n",
       "|---|---|---|---|---|---|---|---|---|---|---|---|---|---|---|---|---|---|---|---|---|\n",
       "| 2020-07-17                      | Algeria                         | NA                              | NA                              | NA                              | NA                              | NA                              | NA                              | NA                              | NA                              | ...                             | NA                              | NA                              | NA                              | NA                              | NA                              | NA                              | NA                              | DZA                             | Daily ICU occupancy             | 62.000                          |\n",
       "| 2020-07-17                      | Algeria                         | NA                              | NA                              | NA                              | NA                              | NA                              | NA                              | NA                              | NA                              | ...                             | NA                              | NA                              | NA                              | NA                              | NA                              | NA                              | NA                              | DZA                             | Daily ICU occupancy per million |  1.381                          |\n",
       "| 2020-07-18                      | Algeria                         | NA                              | NA                              | NA                              | NA                              | NA                              | NA                              | NA                              | NA                              | ...                             | NA                              | NA                              | NA                              | NA                              | NA                              | NA                              | NA                              | DZA                             | Daily ICU occupancy             | 67.000                          |\n",
       "| 2020-07-18                      | Algeria                         | NA                              | NA                              | NA                              | NA                              | NA                              | NA                              | NA                              | NA                              | ...                             | NA                              | NA                              | NA                              | NA                              | NA                              | NA                              | NA                              | DZA                             | Daily ICU occupancy per million |  1.492                          |\n",
       "| 2020-07-20                      | Algeria                         | NA                              | NA                              | NA                              | NA                              | NA                              | NA                              | NA                              | NA                              | ...                             | NA                              | NA                              | NA                              | NA                              | NA                              | NA                              | NA                              | DZA                             | Daily ICU occupancy             | 64.000                          |\n",
       "| 2020-07-20                      | Algeria                         | NA                              | NA                              | NA                              | NA                              | NA                              | NA                              | NA                              | NA                              | ...                             | NA                              | NA                              | NA                              | NA                              | NA                              | NA                              | NA                              | DZA                             | Daily ICU occupancy per million |  1.425                          |\n",
       "\n"
      ],
      "text/plain": [
       "  date       location new_cases new_deaths total_cases total_deaths\n",
       "1 2020-07-17 Algeria  NA        NA         NA          NA          \n",
       "2 2020-07-17 Algeria  NA        NA         NA          NA          \n",
       "3 2020-07-18 Algeria  NA        NA         NA          NA          \n",
       "4 2020-07-18 Algeria  NA        NA         NA          NA          \n",
       "5 2020-07-20 Algeria  NA        NA         NA          NA          \n",
       "6 2020-07-20 Algeria  NA        NA         NA          NA          \n",
       "  weekly_cases weekly_deaths biweekly_cases biweekly_deaths ...\n",
       "1 NA           NA            NA             NA              ...\n",
       "2 NA           NA            NA             NA              ...\n",
       "3 NA           NA            NA             NA              ...\n",
       "4 NA           NA            NA             NA              ...\n",
       "5 NA           NA            NA             NA              ...\n",
       "6 NA           NA            NA             NA              ...\n",
       "  Daily.change.in.cumulative.total Cumulative.total.per.thousand\n",
       "1 NA                               NA                           \n",
       "2 NA                               NA                           \n",
       "3 NA                               NA                           \n",
       "4 NA                               NA                           \n",
       "5 NA                               NA                           \n",
       "6 NA                               NA                           \n",
       "  Daily.change.in.cumulative.total.per.thousand X7.day.smoothed.daily.change\n",
       "1 NA                                            NA                          \n",
       "2 NA                                            NA                          \n",
       "3 NA                                            NA                          \n",
       "4 NA                                            NA                          \n",
       "5 NA                                            NA                          \n",
       "6 NA                                            NA                          \n",
       "  X7.day.smoothed.daily.change.per.thousand Short.term.positive.rate\n",
       "1 NA                                        NA                      \n",
       "2 NA                                        NA                      \n",
       "3 NA                                        NA                      \n",
       "4 NA                                        NA                      \n",
       "5 NA                                        NA                      \n",
       "6 NA                                        NA                      \n",
       "  Short.term.tests.per.case i.iso_code indicator                       value \n",
       "1 NA                        DZA        Daily ICU occupancy             62.000\n",
       "2 NA                        DZA        Daily ICU occupancy per million  1.381\n",
       "3 NA                        DZA        Daily ICU occupancy             67.000\n",
       "4 NA                        DZA        Daily ICU occupancy per million  1.492\n",
       "5 NA                        DZA        Daily ICU occupancy             64.000\n",
       "6 NA                        DZA        Daily ICU occupancy per million  1.425"
      ]
     },
     "metadata": {},
     "output_type": "display_data"
    },
    {
     "data": {
      "text/html": [
       "<ol class=list-inline>\n",
       "\t<li>'date'</li>\n",
       "\t<li>'location'</li>\n",
       "\t<li>'new_cases'</li>\n",
       "\t<li>'new_deaths'</li>\n",
       "\t<li>'total_cases'</li>\n",
       "\t<li>'total_deaths'</li>\n",
       "\t<li>'weekly_cases'</li>\n",
       "\t<li>'weekly_deaths'</li>\n",
       "\t<li>'biweekly_cases'</li>\n",
       "\t<li>'biweekly_deaths'</li>\n",
       "\t<li>'iso_code'</li>\n",
       "\t<li>'total_vaccinations'</li>\n",
       "\t<li>'people_vaccinated'</li>\n",
       "\t<li>'people_fully_vaccinated'</li>\n",
       "\t<li>'total_boosters'</li>\n",
       "\t<li>'daily_vaccinations_raw'</li>\n",
       "\t<li>'daily_vaccinations'</li>\n",
       "\t<li>'total_vaccinations_per_hundred'</li>\n",
       "\t<li>'people_vaccinated_per_hundred'</li>\n",
       "\t<li>'people_fully_vaccinated_per_hundred'</li>\n",
       "\t<li>'total_boosters_per_hundred'</li>\n",
       "\t<li>'daily_vaccinations_per_million'</li>\n",
       "\t<li>'daily_people_vaccinated'</li>\n",
       "\t<li>'daily_people_vaccinated_per_hundred'</li>\n",
       "\t<li>'Entity'</li>\n",
       "\t<li>'ISO.code'</li>\n",
       "\t<li>'Source.URL'</li>\n",
       "\t<li>'Source.label'</li>\n",
       "\t<li>'Notes'</li>\n",
       "\t<li>'Cumulative.total'</li>\n",
       "\t<li>'Daily.change.in.cumulative.total'</li>\n",
       "\t<li>'Cumulative.total.per.thousand'</li>\n",
       "\t<li>'Daily.change.in.cumulative.total.per.thousand'</li>\n",
       "\t<li>'X7.day.smoothed.daily.change'</li>\n",
       "\t<li>'X7.day.smoothed.daily.change.per.thousand'</li>\n",
       "\t<li>'Short.term.positive.rate'</li>\n",
       "\t<li>'Short.term.tests.per.case'</li>\n",
       "\t<li>'i.iso_code'</li>\n",
       "\t<li>'indicator'</li>\n",
       "\t<li>'value'</li>\n",
       "</ol>\n"
      ],
      "text/latex": [
       "\\begin{enumerate*}\n",
       "\\item 'date'\n",
       "\\item 'location'\n",
       "\\item 'new\\_cases'\n",
       "\\item 'new\\_deaths'\n",
       "\\item 'total\\_cases'\n",
       "\\item 'total\\_deaths'\n",
       "\\item 'weekly\\_cases'\n",
       "\\item 'weekly\\_deaths'\n",
       "\\item 'biweekly\\_cases'\n",
       "\\item 'biweekly\\_deaths'\n",
       "\\item 'iso\\_code'\n",
       "\\item 'total\\_vaccinations'\n",
       "\\item 'people\\_vaccinated'\n",
       "\\item 'people\\_fully\\_vaccinated'\n",
       "\\item 'total\\_boosters'\n",
       "\\item 'daily\\_vaccinations\\_raw'\n",
       "\\item 'daily\\_vaccinations'\n",
       "\\item 'total\\_vaccinations\\_per\\_hundred'\n",
       "\\item 'people\\_vaccinated\\_per\\_hundred'\n",
       "\\item 'people\\_fully\\_vaccinated\\_per\\_hundred'\n",
       "\\item 'total\\_boosters\\_per\\_hundred'\n",
       "\\item 'daily\\_vaccinations\\_per\\_million'\n",
       "\\item 'daily\\_people\\_vaccinated'\n",
       "\\item 'daily\\_people\\_vaccinated\\_per\\_hundred'\n",
       "\\item 'Entity'\n",
       "\\item 'ISO.code'\n",
       "\\item 'Source.URL'\n",
       "\\item 'Source.label'\n",
       "\\item 'Notes'\n",
       "\\item 'Cumulative.total'\n",
       "\\item 'Daily.change.in.cumulative.total'\n",
       "\\item 'Cumulative.total.per.thousand'\n",
       "\\item 'Daily.change.in.cumulative.total.per.thousand'\n",
       "\\item 'X7.day.smoothed.daily.change'\n",
       "\\item 'X7.day.smoothed.daily.change.per.thousand'\n",
       "\\item 'Short.term.positive.rate'\n",
       "\\item 'Short.term.tests.per.case'\n",
       "\\item 'i.iso\\_code'\n",
       "\\item 'indicator'\n",
       "\\item 'value'\n",
       "\\end{enumerate*}\n"
      ],
      "text/markdown": [
       "1. 'date'\n",
       "2. 'location'\n",
       "3. 'new_cases'\n",
       "4. 'new_deaths'\n",
       "5. 'total_cases'\n",
       "6. 'total_deaths'\n",
       "7. 'weekly_cases'\n",
       "8. 'weekly_deaths'\n",
       "9. 'biweekly_cases'\n",
       "10. 'biweekly_deaths'\n",
       "11. 'iso_code'\n",
       "12. 'total_vaccinations'\n",
       "13. 'people_vaccinated'\n",
       "14. 'people_fully_vaccinated'\n",
       "15. 'total_boosters'\n",
       "16. 'daily_vaccinations_raw'\n",
       "17. 'daily_vaccinations'\n",
       "18. 'total_vaccinations_per_hundred'\n",
       "19. 'people_vaccinated_per_hundred'\n",
       "20. 'people_fully_vaccinated_per_hundred'\n",
       "21. 'total_boosters_per_hundred'\n",
       "22. 'daily_vaccinations_per_million'\n",
       "23. 'daily_people_vaccinated'\n",
       "24. 'daily_people_vaccinated_per_hundred'\n",
       "25. 'Entity'\n",
       "26. 'ISO.code'\n",
       "27. 'Source.URL'\n",
       "28. 'Source.label'\n",
       "29. 'Notes'\n",
       "30. 'Cumulative.total'\n",
       "31. 'Daily.change.in.cumulative.total'\n",
       "32. 'Cumulative.total.per.thousand'\n",
       "33. 'Daily.change.in.cumulative.total.per.thousand'\n",
       "34. 'X7.day.smoothed.daily.change'\n",
       "35. 'X7.day.smoothed.daily.change.per.thousand'\n",
       "36. 'Short.term.positive.rate'\n",
       "37. 'Short.term.tests.per.case'\n",
       "38. 'i.iso_code'\n",
       "39. 'indicator'\n",
       "40. 'value'\n",
       "\n",
       "\n"
      ],
      "text/plain": [
       " [1] \"date\"                                         \n",
       " [2] \"location\"                                     \n",
       " [3] \"new_cases\"                                    \n",
       " [4] \"new_deaths\"                                   \n",
       " [5] \"total_cases\"                                  \n",
       " [6] \"total_deaths\"                                 \n",
       " [7] \"weekly_cases\"                                 \n",
       " [8] \"weekly_deaths\"                                \n",
       " [9] \"biweekly_cases\"                               \n",
       "[10] \"biweekly_deaths\"                              \n",
       "[11] \"iso_code\"                                     \n",
       "[12] \"total_vaccinations\"                           \n",
       "[13] \"people_vaccinated\"                            \n",
       "[14] \"people_fully_vaccinated\"                      \n",
       "[15] \"total_boosters\"                               \n",
       "[16] \"daily_vaccinations_raw\"                       \n",
       "[17] \"daily_vaccinations\"                           \n",
       "[18] \"total_vaccinations_per_hundred\"               \n",
       "[19] \"people_vaccinated_per_hundred\"                \n",
       "[20] \"people_fully_vaccinated_per_hundred\"          \n",
       "[21] \"total_boosters_per_hundred\"                   \n",
       "[22] \"daily_vaccinations_per_million\"               \n",
       "[23] \"daily_people_vaccinated\"                      \n",
       "[24] \"daily_people_vaccinated_per_hundred\"          \n",
       "[25] \"Entity\"                                       \n",
       "[26] \"ISO.code\"                                     \n",
       "[27] \"Source.URL\"                                   \n",
       "[28] \"Source.label\"                                 \n",
       "[29] \"Notes\"                                        \n",
       "[30] \"Cumulative.total\"                             \n",
       "[31] \"Daily.change.in.cumulative.total\"             \n",
       "[32] \"Cumulative.total.per.thousand\"                \n",
       "[33] \"Daily.change.in.cumulative.total.per.thousand\"\n",
       "[34] \"X7.day.smoothed.daily.change\"                 \n",
       "[35] \"X7.day.smoothed.daily.change.per.thousand\"    \n",
       "[36] \"Short.term.positive.rate\"                     \n",
       "[37] \"Short.term.tests.per.case\"                    \n",
       "[38] \"i.iso_code\"                                   \n",
       "[39] \"indicator\"                                    \n",
       "[40] \"value\"                                        "
      ]
     },
     "metadata": {},
     "output_type": "display_data"
    },
    {
     "data": {
      "text/html": [
       "<table>\n",
       "<thead><tr><th scope=col>date</th><th scope=col>location</th><th scope=col>new_deaths</th><th scope=col>new_tests</th></tr></thead>\n",
       "<tbody>\n",
       "\t<tr><td>2020-07-17</td><td>Algeria   </td><td>NA        </td><td>NA        </td></tr>\n",
       "\t<tr><td>2020-07-17</td><td>Algeria   </td><td>NA        </td><td>NA        </td></tr>\n",
       "\t<tr><td>2020-07-18</td><td>Algeria   </td><td>NA        </td><td>NA        </td></tr>\n",
       "\t<tr><td>2020-07-18</td><td>Algeria   </td><td>NA        </td><td>NA        </td></tr>\n",
       "\t<tr><td>2020-07-20</td><td>Algeria   </td><td>NA        </td><td>NA        </td></tr>\n",
       "\t<tr><td>2020-07-20</td><td>Algeria   </td><td>NA        </td><td>NA        </td></tr>\n",
       "</tbody>\n",
       "</table>\n"
      ],
      "text/latex": [
       "\\begin{tabular}{r|llll}\n",
       " date & location & new\\_deaths & new\\_tests\\\\\n",
       "\\hline\n",
       "\t 2020-07-17 & Algeria    & NA         & NA        \\\\\n",
       "\t 2020-07-17 & Algeria    & NA         & NA        \\\\\n",
       "\t 2020-07-18 & Algeria    & NA         & NA        \\\\\n",
       "\t 2020-07-18 & Algeria    & NA         & NA        \\\\\n",
       "\t 2020-07-20 & Algeria    & NA         & NA        \\\\\n",
       "\t 2020-07-20 & Algeria    & NA         & NA        \\\\\n",
       "\\end{tabular}\n"
      ],
      "text/markdown": [
       "\n",
       "| date | location | new_deaths | new_tests |\n",
       "|---|---|---|---|\n",
       "| 2020-07-17 | Algeria    | NA         | NA         |\n",
       "| 2020-07-17 | Algeria    | NA         | NA         |\n",
       "| 2020-07-18 | Algeria    | NA         | NA         |\n",
       "| 2020-07-18 | Algeria    | NA         | NA         |\n",
       "| 2020-07-20 | Algeria    | NA         | NA         |\n",
       "| 2020-07-20 | Algeria    | NA         | NA         |\n",
       "\n"
      ],
      "text/plain": [
       "  date       location new_deaths new_tests\n",
       "1 2020-07-17 Algeria  NA         NA       \n",
       "2 2020-07-17 Algeria  NA         NA       \n",
       "3 2020-07-18 Algeria  NA         NA       \n",
       "4 2020-07-18 Algeria  NA         NA       \n",
       "5 2020-07-20 Algeria  NA         NA       \n",
       "6 2020-07-20 Algeria  NA         NA       "
      ]
     },
     "metadata": {},
     "output_type": "display_data"
    },
    {
     "data": {
      "text/html": [
       "1"
      ],
      "text/latex": [
       "1"
      ],
      "text/markdown": [
       "1"
      ],
      "text/plain": [
       "[1] 1"
      ]
     },
     "metadata": {},
     "output_type": "display_data"
    }
   ],
   "source": [
    "data.method1 = setDT(deaths)[setDT(vaccinations),on=c(\"location\",\"date\")] # Merges deaths & vaccinations data on Location and Date\n",
    "data.method1 = setDT(data.method1)[setDT(testing),on=c(\"location\",\"date\")] # Merges testing data on Location and Date\n",
    "data.method1 = setDT(data.method1)[setDT(hospitalization),on=c(\"location\",\"date\")] # Merges hospitalization data on Location and Date\n",
    "# data.method1 = data.method1[\"indicator\"]==\"Daily ICU occupancy per million\"\n",
    "# head(data.method1[colnames(data.method1)==\"indicator\"])\n",
    "# data.method1\n",
    "head(data.method1)\n",
    "# head(data.method1[,c(-7:-10,-11)])\n",
    "colnames(data.method1)\n",
    "data.method1 <- data.frame(date=data.method1$date,location=data.method1$location,\n",
    "                           new_deaths=data.method1$new_deaths,new_tests=data.method1$Daily.change.in.cumulative.total)\n",
    "head(data.method1)\n",
    "length(data.method1[2])\n"
   ]
  },
  {
   "cell_type": "code",
   "execution_count": 88,
   "id": "e9a0b6ac",
   "metadata": {},
   "outputs": [
    {
     "data": {
      "text/html": [
       "<table>\n",
       "<thead><tr><th scope=col>date</th><th scope=col>location</th><th scope=col>new_deaths</th><th scope=col>new_tests</th><th scope=col>ICU_per_mil</th></tr></thead>\n",
       "<tbody>\n",
       "\t<tr><td>2022-03-07</td><td>Algeria   </td><td>  2       </td><td>   NA     </td><td> 0.245    </td></tr>\n",
       "\t<tr><td>2020-12-29</td><td>Argentina </td><td>150       </td><td>47852     </td><td>73.500    </td></tr>\n",
       "\t<tr><td>2020-12-30</td><td>Argentina </td><td>145       </td><td>52023     </td><td>75.587    </td></tr>\n",
       "\t<tr><td>2021-01-02</td><td>Argentina </td><td> 56       </td><td>30025     </td><td>75.543    </td></tr>\n",
       "\t<tr><td>2021-01-03</td><td>Argentina </td><td>107       </td><td>25735     </td><td>75.433    </td></tr>\n",
       "\t<tr><td>2021-01-04</td><td>Argentina </td><td>152       </td><td>50483     </td><td>76.950    </td></tr>\n",
       "</tbody>\n",
       "</table>\n"
      ],
      "text/latex": [
       "\\begin{tabular}{r|lllll}\n",
       " date & location & new\\_deaths & new\\_tests & ICU\\_per\\_mil\\\\\n",
       "\\hline\n",
       "\t 2022-03-07 & Algeria    &   2        &    NA      &  0.245    \\\\\n",
       "\t 2020-12-29 & Argentina  & 150        & 47852      & 73.500    \\\\\n",
       "\t 2020-12-30 & Argentina  & 145        & 52023      & 75.587    \\\\\n",
       "\t 2021-01-02 & Argentina  &  56        & 30025      & 75.543    \\\\\n",
       "\t 2021-01-03 & Argentina  & 107        & 25735      & 75.433    \\\\\n",
       "\t 2021-01-04 & Argentina  & 152        & 50483      & 76.950    \\\\\n",
       "\\end{tabular}\n"
      ],
      "text/markdown": [
       "\n",
       "| date | location | new_deaths | new_tests | ICU_per_mil |\n",
       "|---|---|---|---|---|\n",
       "| 2022-03-07 | Algeria    |   2        |    NA      |  0.245     |\n",
       "| 2020-12-29 | Argentina  | 150        | 47852      | 73.500     |\n",
       "| 2020-12-30 | Argentina  | 145        | 52023      | 75.587     |\n",
       "| 2021-01-02 | Argentina  |  56        | 30025      | 75.543     |\n",
       "| 2021-01-03 | Argentina  | 107        | 25735      | 75.433     |\n",
       "| 2021-01-04 | Argentina  | 152        | 50483      | 76.950     |\n",
       "\n"
      ],
      "text/plain": [
       "  date       location  new_deaths new_tests ICU_per_mil\n",
       "1 2022-03-07 Algeria     2           NA      0.245     \n",
       "2 2020-12-29 Argentina 150        47852     73.500     \n",
       "3 2020-12-30 Argentina 145        52023     75.587     \n",
       "4 2021-01-02 Argentina  56        30025     75.543     \n",
       "5 2021-01-03 Argentina 107        25735     75.433     \n",
       "6 2021-01-04 Argentina 152        50483     76.950     "
      ]
     },
     "metadata": {},
     "output_type": "display_data"
    }
   ],
   "source": [
    "data.method1 = merge(x=deaths,y=vaccinations,by=c(\"location\",\"date\")) # Merges deaths & vaccinations data on Location and Date\n",
    "data.method1 = merge(x=data.method1,y=testing,by=c(\"location\",\"date\")) # Merges testing data on Location and Date\n",
    "data.method1 = merge(x=data.method1,y=hospitalization,by=c(\"location\",\"date\")) # Merges hospitalization data on Location and Date\n",
    "data.method1 = data.method1[data.method1$indicator==\"Daily ICU occupancy per million\",]\n",
    "\n",
    "# data.method1 = data.method1[colnames(data.method1)=='i']\n",
    "\n",
    "data.method1 <- data.frame(date=data.method1$date,location=data.method1$location,\n",
    "                           new_deaths=data.method1$new_deaths,new_tests=data.method1$Daily.change.in.cumulative.total,\n",
    "                           ICU_per_mil=data.method1$value)\n",
    "\n",
    "head(data.method1)\n",
    "# data.method1\n",
    "# merge(x = df1, y = df2, by = \"CustomerId\", all = TRUE)\n"
   ]
  },
  {
   "cell_type": "code",
   "execution_count": null,
   "id": "c8e1a5ad",
   "metadata": {},
   "outputs": [],
   "source": []
  }
 ],
 "metadata": {
  "kernelspec": {
   "display_name": "R",
   "language": "R",
   "name": "ir"
  },
  "language_info": {
   "codemirror_mode": "r",
   "file_extension": ".r",
   "mimetype": "text/x-r-source",
   "name": "R",
   "pygments_lexer": "r",
   "version": "3.6.1"
  }
 },
 "nbformat": 4,
 "nbformat_minor": 5
}
