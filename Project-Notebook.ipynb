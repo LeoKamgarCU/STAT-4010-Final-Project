{
 "cells": [
  {
   "cell_type": "markdown",
   "id": "9336fa11",
   "metadata": {},
   "source": [
    "# R-Initialization"
   ]
  },
  {
   "cell_type": "markdown",
   "id": "5f7e0589",
   "metadata": {},
   "source": [
    "### R-Package Download"
   ]
  },
  {
   "cell_type": "code",
   "execution_count": 18,
   "id": "3cf6d592",
   "metadata": {},
   "outputs": [],
   "source": [
    "library(ggplot2) # For Plot Visualizations\n",
    "library(car) # For Variance Inflation Factor function -- vif()\n",
    "library(corrplot) # For Correlation Visualizations\n",
    "library(data.table) # For Complex Data Frame Joins"
   ]
  },
  {
   "cell_type": "markdown",
   "id": "686f10e5",
   "metadata": {},
   "source": [
    "# Data Initialization"
   ]
  },
  {
   "cell_type": "markdown",
   "id": "a15d5b4e",
   "metadata": {},
   "source": [
    "### Data Download"
   ]
  },
  {
   "cell_type": "code",
   "execution_count": 23,
   "id": "8cb00cfe",
   "metadata": {},
   "outputs": [],
   "source": [
    "# Downloading Vaccination Data\n",
    "vaccinations = read.csv(url(paste0(\"https://raw.githubusercontent.com/owid/covid-19-data/master/public/data/vaccinations/vaccinations.csv\")))\n",
    "\n",
    "# Downloading Testing Data\n",
    "testing = read.csv(url(paste0(\"https://raw.githubusercontent.com/owid/covid-19-data/master/public/data/testing/covid-testing-all-observations.csv\")))\n",
    "\n",
    "# Downloading Hospitalization Data\n",
    "hospitalization = read.csv(url(paste0(\"https://raw.githubusercontent.com/owid/covid-19-data/master/public/data/hospitalizations/covid-hospitalizations.csv\")))\n",
    "\n",
    "# Downloading Hospitalization Data\n",
    "deaths = read.csv(url(paste0(\"https://raw.githubusercontent.com/owid/covid-19-data/master/public/data/jhu/full_data.csv\")))\n",
    "\n"
   ]
  },
  {
   "cell_type": "code",
   "execution_count": 24,
   "id": "67c08ac6",
   "metadata": {},
   "outputs": [
    {
     "data": {
      "text/html": [
       "<table>\n",
       "<thead><tr><th scope=col>location</th><th scope=col>iso_code</th><th scope=col>date</th><th scope=col>total_vaccinations</th><th scope=col>people_vaccinated</th><th scope=col>people_fully_vaccinated</th><th scope=col>total_boosters</th><th scope=col>daily_vaccinations_raw</th><th scope=col>daily_vaccinations</th><th scope=col>total_vaccinations_per_hundred</th><th scope=col>people_vaccinated_per_hundred</th><th scope=col>people_fully_vaccinated_per_hundred</th><th scope=col>total_boosters_per_hundred</th><th scope=col>daily_vaccinations_per_million</th><th scope=col>daily_people_vaccinated</th><th scope=col>daily_people_vaccinated_per_hundred</th></tr></thead>\n",
       "<tbody>\n",
       "\t<tr><td>Afghanistan</td><td>AFG        </td><td>2021-02-22 </td><td> 0         </td><td> 0         </td><td>NA         </td><td>NA         </td><td>NA         </td><td>  NA       </td><td> 0         </td><td> 0         </td><td>NA         </td><td>NA         </td><td>NA         </td><td>  NA       </td><td>   NA      </td></tr>\n",
       "\t<tr><td>Afghanistan</td><td>AFG        </td><td>2021-02-23 </td><td>NA         </td><td>NA         </td><td>NA         </td><td>NA         </td><td>NA         </td><td>1367       </td><td>NA         </td><td>NA         </td><td>NA         </td><td>NA         </td><td>33         </td><td>1367       </td><td>0.003      </td></tr>\n",
       "\t<tr><td>Afghanistan</td><td>AFG        </td><td>2021-02-24 </td><td>NA         </td><td>NA         </td><td>NA         </td><td>NA         </td><td>NA         </td><td>1367       </td><td>NA         </td><td>NA         </td><td>NA         </td><td>NA         </td><td>33         </td><td>1367       </td><td>0.003      </td></tr>\n",
       "\t<tr><td>Afghanistan</td><td>AFG        </td><td>2021-02-25 </td><td>NA         </td><td>NA         </td><td>NA         </td><td>NA         </td><td>NA         </td><td>1367       </td><td>NA         </td><td>NA         </td><td>NA         </td><td>NA         </td><td>33         </td><td>1367       </td><td>0.003      </td></tr>\n",
       "\t<tr><td>Afghanistan</td><td>AFG        </td><td>2021-02-26 </td><td>NA         </td><td>NA         </td><td>NA         </td><td>NA         </td><td>NA         </td><td>1367       </td><td>NA         </td><td>NA         </td><td>NA         </td><td>NA         </td><td>33         </td><td>1367       </td><td>0.003      </td></tr>\n",
       "\t<tr><td>Afghanistan</td><td>AFG        </td><td>2021-02-27 </td><td>NA         </td><td>NA         </td><td>NA         </td><td>NA         </td><td>NA         </td><td>1367       </td><td>NA         </td><td>NA         </td><td>NA         </td><td>NA         </td><td>33         </td><td>1367       </td><td>0.003      </td></tr>\n",
       "</tbody>\n",
       "</table>\n"
      ],
      "text/latex": [
       "\\begin{tabular}{r|llllllllllllllll}\n",
       " location & iso\\_code & date & total\\_vaccinations & people\\_vaccinated & people\\_fully\\_vaccinated & total\\_boosters & daily\\_vaccinations\\_raw & daily\\_vaccinations & total\\_vaccinations\\_per\\_hundred & people\\_vaccinated\\_per\\_hundred & people\\_fully\\_vaccinated\\_per\\_hundred & total\\_boosters\\_per\\_hundred & daily\\_vaccinations\\_per\\_million & daily\\_people\\_vaccinated & daily\\_people\\_vaccinated\\_per\\_hundred\\\\\n",
       "\\hline\n",
       "\t Afghanistan & AFG         & 2021-02-22  &  0          &  0          & NA          & NA          & NA          &   NA        &  0          &  0          & NA          & NA          & NA          &   NA        &    NA      \\\\\n",
       "\t Afghanistan & AFG         & 2021-02-23  & NA          & NA          & NA          & NA          & NA          & 1367        & NA          & NA          & NA          & NA          & 33          & 1367        & 0.003      \\\\\n",
       "\t Afghanistan & AFG         & 2021-02-24  & NA          & NA          & NA          & NA          & NA          & 1367        & NA          & NA          & NA          & NA          & 33          & 1367        & 0.003      \\\\\n",
       "\t Afghanistan & AFG         & 2021-02-25  & NA          & NA          & NA          & NA          & NA          & 1367        & NA          & NA          & NA          & NA          & 33          & 1367        & 0.003      \\\\\n",
       "\t Afghanistan & AFG         & 2021-02-26  & NA          & NA          & NA          & NA          & NA          & 1367        & NA          & NA          & NA          & NA          & 33          & 1367        & 0.003      \\\\\n",
       "\t Afghanistan & AFG         & 2021-02-27  & NA          & NA          & NA          & NA          & NA          & 1367        & NA          & NA          & NA          & NA          & 33          & 1367        & 0.003      \\\\\n",
       "\\end{tabular}\n"
      ],
      "text/markdown": [
       "\n",
       "| location | iso_code | date | total_vaccinations | people_vaccinated | people_fully_vaccinated | total_boosters | daily_vaccinations_raw | daily_vaccinations | total_vaccinations_per_hundred | people_vaccinated_per_hundred | people_fully_vaccinated_per_hundred | total_boosters_per_hundred | daily_vaccinations_per_million | daily_people_vaccinated | daily_people_vaccinated_per_hundred |\n",
       "|---|---|---|---|---|---|---|---|---|---|---|---|---|---|---|---|\n",
       "| Afghanistan | AFG         | 2021-02-22  |  0          |  0          | NA          | NA          | NA          |   NA        |  0          |  0          | NA          | NA          | NA          |   NA        |    NA       |\n",
       "| Afghanistan | AFG         | 2021-02-23  | NA          | NA          | NA          | NA          | NA          | 1367        | NA          | NA          | NA          | NA          | 33          | 1367        | 0.003       |\n",
       "| Afghanistan | AFG         | 2021-02-24  | NA          | NA          | NA          | NA          | NA          | 1367        | NA          | NA          | NA          | NA          | 33          | 1367        | 0.003       |\n",
       "| Afghanistan | AFG         | 2021-02-25  | NA          | NA          | NA          | NA          | NA          | 1367        | NA          | NA          | NA          | NA          | 33          | 1367        | 0.003       |\n",
       "| Afghanistan | AFG         | 2021-02-26  | NA          | NA          | NA          | NA          | NA          | 1367        | NA          | NA          | NA          | NA          | 33          | 1367        | 0.003       |\n",
       "| Afghanistan | AFG         | 2021-02-27  | NA          | NA          | NA          | NA          | NA          | 1367        | NA          | NA          | NA          | NA          | 33          | 1367        | 0.003       |\n",
       "\n"
      ],
      "text/plain": [
       "  location    iso_code date       total_vaccinations people_vaccinated\n",
       "1 Afghanistan AFG      2021-02-22  0                  0               \n",
       "2 Afghanistan AFG      2021-02-23 NA                 NA               \n",
       "3 Afghanistan AFG      2021-02-24 NA                 NA               \n",
       "4 Afghanistan AFG      2021-02-25 NA                 NA               \n",
       "5 Afghanistan AFG      2021-02-26 NA                 NA               \n",
       "6 Afghanistan AFG      2021-02-27 NA                 NA               \n",
       "  people_fully_vaccinated total_boosters daily_vaccinations_raw\n",
       "1 NA                      NA             NA                    \n",
       "2 NA                      NA             NA                    \n",
       "3 NA                      NA             NA                    \n",
       "4 NA                      NA             NA                    \n",
       "5 NA                      NA             NA                    \n",
       "6 NA                      NA             NA                    \n",
       "  daily_vaccinations total_vaccinations_per_hundred\n",
       "1   NA                0                            \n",
       "2 1367               NA                            \n",
       "3 1367               NA                            \n",
       "4 1367               NA                            \n",
       "5 1367               NA                            \n",
       "6 1367               NA                            \n",
       "  people_vaccinated_per_hundred people_fully_vaccinated_per_hundred\n",
       "1  0                            NA                                 \n",
       "2 NA                            NA                                 \n",
       "3 NA                            NA                                 \n",
       "4 NA                            NA                                 \n",
       "5 NA                            NA                                 \n",
       "6 NA                            NA                                 \n",
       "  total_boosters_per_hundred daily_vaccinations_per_million\n",
       "1 NA                         NA                            \n",
       "2 NA                         33                            \n",
       "3 NA                         33                            \n",
       "4 NA                         33                            \n",
       "5 NA                         33                            \n",
       "6 NA                         33                            \n",
       "  daily_people_vaccinated daily_people_vaccinated_per_hundred\n",
       "1   NA                       NA                              \n",
       "2 1367                    0.003                              \n",
       "3 1367                    0.003                              \n",
       "4 1367                    0.003                              \n",
       "5 1367                    0.003                              \n",
       "6 1367                    0.003                              "
      ]
     },
     "metadata": {},
     "output_type": "display_data"
    },
    {
     "data": {
      "text/html": [
       "<table>\n",
       "<thead><tr><th scope=col>Entity</th><th scope=col>ISO.code</th><th scope=col>Date</th><th scope=col>Source.URL</th><th scope=col>Source.label</th><th scope=col>Notes</th><th scope=col>Cumulative.total</th><th scope=col>Daily.change.in.cumulative.total</th><th scope=col>Cumulative.total.per.thousand</th><th scope=col>Daily.change.in.cumulative.total.per.thousand</th><th scope=col>X7.day.smoothed.daily.change</th><th scope=col>X7.day.smoothed.daily.change.per.thousand</th><th scope=col>Short.term.positive.rate</th><th scope=col>Short.term.tests.per.case</th></tr></thead>\n",
       "<tbody>\n",
       "\t<tr><td>Afghanistan - tests performed                                         </td><td>AFG                                                                   </td><td>2022-01-29                                                            </td><td>http://www.emro.who.int/images/stories/coronavirus/covid-sitrep-28.pdf</td><td>WHO Regional Office for the Eastern Mediterranean                     </td><td>                                                                      </td><td>853003                                                                </td><td>NA                                                                    </td><td>21.272                                                                </td><td>NA                                                                    </td><td>NA                                                                    </td><td>NA                                                                    </td><td>NA                                                                    </td><td>NA                                                                    </td></tr>\n",
       "\t<tr><td>Afghanistan - tests performed                                         </td><td>AFG                                                                   </td><td>2022-01-30                                                            </td><td>                                                                      </td><td>                                                                      </td><td>                                                                      </td><td>    NA                                                                </td><td>NA                                                                    </td><td>    NA                                                                </td><td>NA                                                                    </td><td>NA                                                                    </td><td>NA                                                                    </td><td>NA                                                                    </td><td>NA                                                                    </td></tr>\n",
       "\t<tr><td>Afghanistan - tests performed                                         </td><td>AFG                                                                   </td><td>2022-01-31                                                            </td><td>                                                                      </td><td>                                                                      </td><td>                                                                      </td><td>    NA                                                                </td><td>NA                                                                    </td><td>    NA                                                                </td><td>NA                                                                    </td><td>NA                                                                    </td><td>NA                                                                    </td><td>NA                                                                    </td><td>NA                                                                    </td></tr>\n",
       "\t<tr><td>Afghanistan - tests performed                                         </td><td>AFG                                                                   </td><td>2022-02-01                                                            </td><td>                                                                      </td><td>                                                                      </td><td>                                                                      </td><td>    NA                                                                </td><td>NA                                                                    </td><td>    NA                                                                </td><td>NA                                                                    </td><td>NA                                                                    </td><td>NA                                                                    </td><td>NA                                                                    </td><td>NA                                                                    </td></tr>\n",
       "\t<tr><td>Afghanistan - tests performed                                         </td><td>AFG                                                                   </td><td>2022-02-02                                                            </td><td>                                                                      </td><td>                                                                      </td><td>                                                                      </td><td>    NA                                                                </td><td>NA                                                                    </td><td>    NA                                                                </td><td>NA                                                                    </td><td>NA                                                                    </td><td>NA                                                                    </td><td>NA                                                                    </td><td>NA                                                                    </td></tr>\n",
       "\t<tr><td>Afghanistan - tests performed                                         </td><td>AFG                                                                   </td><td>2022-02-03                                                            </td><td>                                                                      </td><td>                                                                      </td><td>                                                                      </td><td>    NA                                                                </td><td>NA                                                                    </td><td>    NA                                                                </td><td>NA                                                                    </td><td>NA                                                                    </td><td>NA                                                                    </td><td>NA                                                                    </td><td>NA                                                                    </td></tr>\n",
       "</tbody>\n",
       "</table>\n"
      ],
      "text/latex": [
       "\\begin{tabular}{r|llllllllllllll}\n",
       " Entity & ISO.code & Date & Source.URL & Source.label & Notes & Cumulative.total & Daily.change.in.cumulative.total & Cumulative.total.per.thousand & Daily.change.in.cumulative.total.per.thousand & X7.day.smoothed.daily.change & X7.day.smoothed.daily.change.per.thousand & Short.term.positive.rate & Short.term.tests.per.case\\\\\n",
       "\\hline\n",
       "\t Afghanistan - tests performed                                          & AFG                                                                    & 2022-01-29                                                             & http://www.emro.who.int/images/stories/coronavirus/covid-sitrep-28.pdf & WHO Regional Office for the Eastern Mediterranean                      &                                                                        & 853003                                                                 & NA                                                                     & 21.272                                                                 & NA                                                                     & NA                                                                     & NA                                                                     & NA                                                                     & NA                                                                    \\\\\n",
       "\t Afghanistan - tests performed                                          & AFG                                                                    & 2022-01-30                                                             &                                                                        &                                                                        &                                                                        &     NA                                                                 & NA                                                                     &     NA                                                                 & NA                                                                     & NA                                                                     & NA                                                                     & NA                                                                     & NA                                                                    \\\\\n",
       "\t Afghanistan - tests performed                                          & AFG                                                                    & 2022-01-31                                                             &                                                                        &                                                                        &                                                                        &     NA                                                                 & NA                                                                     &     NA                                                                 & NA                                                                     & NA                                                                     & NA                                                                     & NA                                                                     & NA                                                                    \\\\\n",
       "\t Afghanistan - tests performed                                          & AFG                                                                    & 2022-02-01                                                             &                                                                        &                                                                        &                                                                        &     NA                                                                 & NA                                                                     &     NA                                                                 & NA                                                                     & NA                                                                     & NA                                                                     & NA                                                                     & NA                                                                    \\\\\n",
       "\t Afghanistan - tests performed                                          & AFG                                                                    & 2022-02-02                                                             &                                                                        &                                                                        &                                                                        &     NA                                                                 & NA                                                                     &     NA                                                                 & NA                                                                     & NA                                                                     & NA                                                                     & NA                                                                     & NA                                                                    \\\\\n",
       "\t Afghanistan - tests performed                                          & AFG                                                                    & 2022-02-03                                                             &                                                                        &                                                                        &                                                                        &     NA                                                                 & NA                                                                     &     NA                                                                 & NA                                                                     & NA                                                                     & NA                                                                     & NA                                                                     & NA                                                                    \\\\\n",
       "\\end{tabular}\n"
      ],
      "text/markdown": [
       "\n",
       "| Entity | ISO.code | Date | Source.URL | Source.label | Notes | Cumulative.total | Daily.change.in.cumulative.total | Cumulative.total.per.thousand | Daily.change.in.cumulative.total.per.thousand | X7.day.smoothed.daily.change | X7.day.smoothed.daily.change.per.thousand | Short.term.positive.rate | Short.term.tests.per.case |\n",
       "|---|---|---|---|---|---|---|---|---|---|---|---|---|---|\n",
       "| Afghanistan - tests performed                                          | AFG                                                                    | 2022-01-29                                                             | http://www.emro.who.int/images/stories/coronavirus/covid-sitrep-28.pdf | WHO Regional Office for the Eastern Mediterranean                      |                                                                        | 853003                                                                 | NA                                                                     | 21.272                                                                 | NA                                                                     | NA                                                                     | NA                                                                     | NA                                                                     | NA                                                                     |\n",
       "| Afghanistan - tests performed                                          | AFG                                                                    | 2022-01-30                                                             |                                                                        |                                                                        |                                                                        |     NA                                                                 | NA                                                                     |     NA                                                                 | NA                                                                     | NA                                                                     | NA                                                                     | NA                                                                     | NA                                                                     |\n",
       "| Afghanistan - tests performed                                          | AFG                                                                    | 2022-01-31                                                             |                                                                        |                                                                        |                                                                        |     NA                                                                 | NA                                                                     |     NA                                                                 | NA                                                                     | NA                                                                     | NA                                                                     | NA                                                                     | NA                                                                     |\n",
       "| Afghanistan - tests performed                                          | AFG                                                                    | 2022-02-01                                                             |                                                                        |                                                                        |                                                                        |     NA                                                                 | NA                                                                     |     NA                                                                 | NA                                                                     | NA                                                                     | NA                                                                     | NA                                                                     | NA                                                                     |\n",
       "| Afghanistan - tests performed                                          | AFG                                                                    | 2022-02-02                                                             |                                                                        |                                                                        |                                                                        |     NA                                                                 | NA                                                                     |     NA                                                                 | NA                                                                     | NA                                                                     | NA                                                                     | NA                                                                     | NA                                                                     |\n",
       "| Afghanistan - tests performed                                          | AFG                                                                    | 2022-02-03                                                             |                                                                        |                                                                        |                                                                        |     NA                                                                 | NA                                                                     |     NA                                                                 | NA                                                                     | NA                                                                     | NA                                                                     | NA                                                                     | NA                                                                     |\n",
       "\n"
      ],
      "text/plain": [
       "  Entity                        ISO.code Date      \n",
       "1 Afghanistan - tests performed AFG      2022-01-29\n",
       "2 Afghanistan - tests performed AFG      2022-01-30\n",
       "3 Afghanistan - tests performed AFG      2022-01-31\n",
       "4 Afghanistan - tests performed AFG      2022-02-01\n",
       "5 Afghanistan - tests performed AFG      2022-02-02\n",
       "6 Afghanistan - tests performed AFG      2022-02-03\n",
       "  Source.URL                                                            \n",
       "1 http://www.emro.who.int/images/stories/coronavirus/covid-sitrep-28.pdf\n",
       "2                                                                       \n",
       "3                                                                       \n",
       "4                                                                       \n",
       "5                                                                       \n",
       "6                                                                       \n",
       "  Source.label                                      Notes Cumulative.total\n",
       "1 WHO Regional Office for the Eastern Mediterranean       853003          \n",
       "2                                                             NA          \n",
       "3                                                             NA          \n",
       "4                                                             NA          \n",
       "5                                                             NA          \n",
       "6                                                             NA          \n",
       "  Daily.change.in.cumulative.total Cumulative.total.per.thousand\n",
       "1 NA                               21.272                       \n",
       "2 NA                                   NA                       \n",
       "3 NA                                   NA                       \n",
       "4 NA                                   NA                       \n",
       "5 NA                                   NA                       \n",
       "6 NA                                   NA                       \n",
       "  Daily.change.in.cumulative.total.per.thousand X7.day.smoothed.daily.change\n",
       "1 NA                                            NA                          \n",
       "2 NA                                            NA                          \n",
       "3 NA                                            NA                          \n",
       "4 NA                                            NA                          \n",
       "5 NA                                            NA                          \n",
       "6 NA                                            NA                          \n",
       "  X7.day.smoothed.daily.change.per.thousand Short.term.positive.rate\n",
       "1 NA                                        NA                      \n",
       "2 NA                                        NA                      \n",
       "3 NA                                        NA                      \n",
       "4 NA                                        NA                      \n",
       "5 NA                                        NA                      \n",
       "6 NA                                        NA                      \n",
       "  Short.term.tests.per.case\n",
       "1 NA                       \n",
       "2 NA                       \n",
       "3 NA                       \n",
       "4 NA                       \n",
       "5 NA                       \n",
       "6 NA                       "
      ]
     },
     "metadata": {},
     "output_type": "display_data"
    },
    {
     "data": {
      "text/html": [
       "<table>\n",
       "<thead><tr><th scope=col>entity</th><th scope=col>iso_code</th><th scope=col>date</th><th scope=col>indicator</th><th scope=col>value</th></tr></thead>\n",
       "<tbody>\n",
       "\t<tr><td>Algeria                        </td><td>DZA                            </td><td>2020-07-17                     </td><td>Daily ICU occupancy            </td><td>62.000                         </td></tr>\n",
       "\t<tr><td>Algeria                        </td><td>DZA                            </td><td>2020-07-17                     </td><td>Daily ICU occupancy per million</td><td> 1.381                         </td></tr>\n",
       "\t<tr><td>Algeria                        </td><td>DZA                            </td><td>2020-07-18                     </td><td>Daily ICU occupancy            </td><td>67.000                         </td></tr>\n",
       "\t<tr><td>Algeria                        </td><td>DZA                            </td><td>2020-07-18                     </td><td>Daily ICU occupancy per million</td><td> 1.492                         </td></tr>\n",
       "\t<tr><td>Algeria                        </td><td>DZA                            </td><td>2020-07-20                     </td><td>Daily ICU occupancy            </td><td>64.000                         </td></tr>\n",
       "\t<tr><td>Algeria                        </td><td>DZA                            </td><td>2020-07-20                     </td><td>Daily ICU occupancy per million</td><td> 1.425                         </td></tr>\n",
       "</tbody>\n",
       "</table>\n"
      ],
      "text/latex": [
       "\\begin{tabular}{r|lllll}\n",
       " entity & iso\\_code & date & indicator & value\\\\\n",
       "\\hline\n",
       "\t Algeria                         & DZA                             & 2020-07-17                      & Daily ICU occupancy             & 62.000                         \\\\\n",
       "\t Algeria                         & DZA                             & 2020-07-17                      & Daily ICU occupancy per million &  1.381                         \\\\\n",
       "\t Algeria                         & DZA                             & 2020-07-18                      & Daily ICU occupancy             & 67.000                         \\\\\n",
       "\t Algeria                         & DZA                             & 2020-07-18                      & Daily ICU occupancy per million &  1.492                         \\\\\n",
       "\t Algeria                         & DZA                             & 2020-07-20                      & Daily ICU occupancy             & 64.000                         \\\\\n",
       "\t Algeria                         & DZA                             & 2020-07-20                      & Daily ICU occupancy per million &  1.425                         \\\\\n",
       "\\end{tabular}\n"
      ],
      "text/markdown": [
       "\n",
       "| entity | iso_code | date | indicator | value |\n",
       "|---|---|---|---|---|\n",
       "| Algeria                         | DZA                             | 2020-07-17                      | Daily ICU occupancy             | 62.000                          |\n",
       "| Algeria                         | DZA                             | 2020-07-17                      | Daily ICU occupancy per million |  1.381                          |\n",
       "| Algeria                         | DZA                             | 2020-07-18                      | Daily ICU occupancy             | 67.000                          |\n",
       "| Algeria                         | DZA                             | 2020-07-18                      | Daily ICU occupancy per million |  1.492                          |\n",
       "| Algeria                         | DZA                             | 2020-07-20                      | Daily ICU occupancy             | 64.000                          |\n",
       "| Algeria                         | DZA                             | 2020-07-20                      | Daily ICU occupancy per million |  1.425                          |\n",
       "\n"
      ],
      "text/plain": [
       "  entity  iso_code date       indicator                       value \n",
       "1 Algeria DZA      2020-07-17 Daily ICU occupancy             62.000\n",
       "2 Algeria DZA      2020-07-17 Daily ICU occupancy per million  1.381\n",
       "3 Algeria DZA      2020-07-18 Daily ICU occupancy             67.000\n",
       "4 Algeria DZA      2020-07-18 Daily ICU occupancy per million  1.492\n",
       "5 Algeria DZA      2020-07-20 Daily ICU occupancy             64.000\n",
       "6 Algeria DZA      2020-07-20 Daily ICU occupancy per million  1.425"
      ]
     },
     "metadata": {},
     "output_type": "display_data"
    },
    {
     "data": {
      "text/html": [
       "<table>\n",
       "<thead><tr><th scope=col>date</th><th scope=col>location</th><th scope=col>new_cases</th><th scope=col>new_deaths</th><th scope=col>total_cases</th><th scope=col>total_deaths</th><th scope=col>weekly_cases</th><th scope=col>weekly_deaths</th><th scope=col>biweekly_cases</th><th scope=col>biweekly_deaths</th></tr></thead>\n",
       "<tbody>\n",
       "\t<tr><td>2020-02-24 </td><td>Afghanistan</td><td>5          </td><td>NA         </td><td>5          </td><td>NA         </td><td>NA         </td><td>NA         </td><td>NA         </td><td>NA         </td></tr>\n",
       "\t<tr><td>2020-02-25 </td><td>Afghanistan</td><td>0          </td><td>NA         </td><td>5          </td><td>NA         </td><td>NA         </td><td>NA         </td><td>NA         </td><td>NA         </td></tr>\n",
       "\t<tr><td>2020-02-26 </td><td>Afghanistan</td><td>0          </td><td>NA         </td><td>5          </td><td>NA         </td><td>NA         </td><td>NA         </td><td>NA         </td><td>NA         </td></tr>\n",
       "\t<tr><td>2020-02-27 </td><td>Afghanistan</td><td>0          </td><td>NA         </td><td>5          </td><td>NA         </td><td>NA         </td><td>NA         </td><td>NA         </td><td>NA         </td></tr>\n",
       "\t<tr><td>2020-02-28 </td><td>Afghanistan</td><td>0          </td><td>NA         </td><td>5          </td><td>NA         </td><td>NA         </td><td>NA         </td><td>NA         </td><td>NA         </td></tr>\n",
       "\t<tr><td>2020-02-29 </td><td>Afghanistan</td><td>0          </td><td>NA         </td><td>5          </td><td>NA         </td><td> 5         </td><td>NA         </td><td>NA         </td><td>NA         </td></tr>\n",
       "</tbody>\n",
       "</table>\n"
      ],
      "text/latex": [
       "\\begin{tabular}{r|llllllllll}\n",
       " date & location & new\\_cases & new\\_deaths & total\\_cases & total\\_deaths & weekly\\_cases & weekly\\_deaths & biweekly\\_cases & biweekly\\_deaths\\\\\n",
       "\\hline\n",
       "\t 2020-02-24  & Afghanistan & 5           & NA          & 5           & NA          & NA          & NA          & NA          & NA         \\\\\n",
       "\t 2020-02-25  & Afghanistan & 0           & NA          & 5           & NA          & NA          & NA          & NA          & NA         \\\\\n",
       "\t 2020-02-26  & Afghanistan & 0           & NA          & 5           & NA          & NA          & NA          & NA          & NA         \\\\\n",
       "\t 2020-02-27  & Afghanistan & 0           & NA          & 5           & NA          & NA          & NA          & NA          & NA         \\\\\n",
       "\t 2020-02-28  & Afghanistan & 0           & NA          & 5           & NA          & NA          & NA          & NA          & NA         \\\\\n",
       "\t 2020-02-29  & Afghanistan & 0           & NA          & 5           & NA          &  5          & NA          & NA          & NA         \\\\\n",
       "\\end{tabular}\n"
      ],
      "text/markdown": [
       "\n",
       "| date | location | new_cases | new_deaths | total_cases | total_deaths | weekly_cases | weekly_deaths | biweekly_cases | biweekly_deaths |\n",
       "|---|---|---|---|---|---|---|---|---|---|\n",
       "| 2020-02-24  | Afghanistan | 5           | NA          | 5           | NA          | NA          | NA          | NA          | NA          |\n",
       "| 2020-02-25  | Afghanistan | 0           | NA          | 5           | NA          | NA          | NA          | NA          | NA          |\n",
       "| 2020-02-26  | Afghanistan | 0           | NA          | 5           | NA          | NA          | NA          | NA          | NA          |\n",
       "| 2020-02-27  | Afghanistan | 0           | NA          | 5           | NA          | NA          | NA          | NA          | NA          |\n",
       "| 2020-02-28  | Afghanistan | 0           | NA          | 5           | NA          | NA          | NA          | NA          | NA          |\n",
       "| 2020-02-29  | Afghanistan | 0           | NA          | 5           | NA          |  5          | NA          | NA          | NA          |\n",
       "\n"
      ],
      "text/plain": [
       "  date       location    new_cases new_deaths total_cases total_deaths\n",
       "1 2020-02-24 Afghanistan 5         NA         5           NA          \n",
       "2 2020-02-25 Afghanistan 0         NA         5           NA          \n",
       "3 2020-02-26 Afghanistan 0         NA         5           NA          \n",
       "4 2020-02-27 Afghanistan 0         NA         5           NA          \n",
       "5 2020-02-28 Afghanistan 0         NA         5           NA          \n",
       "6 2020-02-29 Afghanistan 0         NA         5           NA          \n",
       "  weekly_cases weekly_deaths biweekly_cases biweekly_deaths\n",
       "1 NA           NA            NA             NA             \n",
       "2 NA           NA            NA             NA             \n",
       "3 NA           NA            NA             NA             \n",
       "4 NA           NA            NA             NA             \n",
       "5 NA           NA            NA             NA             \n",
       "6  5           NA            NA             NA             "
      ]
     },
     "metadata": {},
     "output_type": "display_data"
    }
   ],
   "source": [
    "head(vaccinations)\n",
    "head(testing)\n",
    "head(hospitalization)\n",
    "head(deaths)"
   ]
  },
  {
   "cell_type": "markdown",
   "id": "817b8252",
   "metadata": {},
   "source": [
    "### Data Cleanup"
   ]
  },
  {
   "cell_type": "code",
   "execution_count": 26,
   "id": "ca78d51d",
   "metadata": {},
   "outputs": [
    {
     "data": {
      "text/html": [
       "<table>\n",
       "<thead><tr><th scope=col>Entity</th><th scope=col>ISO.code</th><th scope=col>Date</th><th scope=col>Source.URL</th><th scope=col>Source.label</th><th scope=col>Notes</th><th scope=col>Cumulative.total</th><th scope=col>Daily.change.in.cumulative.total</th><th scope=col>Cumulative.total.per.thousand</th><th scope=col>Daily.change.in.cumulative.total.per.thousand</th><th scope=col>X7.day.smoothed.daily.change</th><th scope=col>X7.day.smoothed.daily.change.per.thousand</th><th scope=col>Short.term.positive.rate</th><th scope=col>Short.term.tests.per.case</th><th scope=col>location</th></tr></thead>\n",
       "<tbody>\n",
       "\t<tr><td>Afghanistan - tests performed                                         </td><td>AFG                                                                   </td><td>2022-01-29                                                            </td><td>http://www.emro.who.int/images/stories/coronavirus/covid-sitrep-28.pdf</td><td>WHO Regional Office for the Eastern Mediterranean                     </td><td>                                                                      </td><td>853003                                                                </td><td>NA                                                                    </td><td>21.272                                                                </td><td>NA                                                                    </td><td>NA                                                                    </td><td>NA                                                                    </td><td>NA                                                                    </td><td>NA                                                                    </td><td>Afghanistan                                                           </td></tr>\n",
       "\t<tr><td>Afghanistan - tests performed                                         </td><td>AFG                                                                   </td><td>2022-01-30                                                            </td><td>                                                                      </td><td>                                                                      </td><td>                                                                      </td><td>    NA                                                                </td><td>NA                                                                    </td><td>    NA                                                                </td><td>NA                                                                    </td><td>NA                                                                    </td><td>NA                                                                    </td><td>NA                                                                    </td><td>NA                                                                    </td><td>Afghanistan                                                           </td></tr>\n",
       "\t<tr><td>Afghanistan - tests performed                                         </td><td>AFG                                                                   </td><td>2022-01-31                                                            </td><td>                                                                      </td><td>                                                                      </td><td>                                                                      </td><td>    NA                                                                </td><td>NA                                                                    </td><td>    NA                                                                </td><td>NA                                                                    </td><td>NA                                                                    </td><td>NA                                                                    </td><td>NA                                                                    </td><td>NA                                                                    </td><td>Afghanistan                                                           </td></tr>\n",
       "\t<tr><td>Afghanistan - tests performed                                         </td><td>AFG                                                                   </td><td>2022-02-01                                                            </td><td>                                                                      </td><td>                                                                      </td><td>                                                                      </td><td>    NA                                                                </td><td>NA                                                                    </td><td>    NA                                                                </td><td>NA                                                                    </td><td>NA                                                                    </td><td>NA                                                                    </td><td>NA                                                                    </td><td>NA                                                                    </td><td>Afghanistan                                                           </td></tr>\n",
       "\t<tr><td>Afghanistan - tests performed                                         </td><td>AFG                                                                   </td><td>2022-02-02                                                            </td><td>                                                                      </td><td>                                                                      </td><td>                                                                      </td><td>    NA                                                                </td><td>NA                                                                    </td><td>    NA                                                                </td><td>NA                                                                    </td><td>NA                                                                    </td><td>NA                                                                    </td><td>NA                                                                    </td><td>NA                                                                    </td><td>Afghanistan                                                           </td></tr>\n",
       "\t<tr><td>Afghanistan - tests performed                                         </td><td>AFG                                                                   </td><td>2022-02-03                                                            </td><td>                                                                      </td><td>                                                                      </td><td>                                                                      </td><td>    NA                                                                </td><td>NA                                                                    </td><td>    NA                                                                </td><td>NA                                                                    </td><td>NA                                                                    </td><td>NA                                                                    </td><td>NA                                                                    </td><td>NA                                                                    </td><td>Afghanistan                                                           </td></tr>\n",
       "</tbody>\n",
       "</table>\n"
      ],
      "text/latex": [
       "\\begin{tabular}{r|lllllllllllllll}\n",
       " Entity & ISO.code & Date & Source.URL & Source.label & Notes & Cumulative.total & Daily.change.in.cumulative.total & Cumulative.total.per.thousand & Daily.change.in.cumulative.total.per.thousand & X7.day.smoothed.daily.change & X7.day.smoothed.daily.change.per.thousand & Short.term.positive.rate & Short.term.tests.per.case & location\\\\\n",
       "\\hline\n",
       "\t Afghanistan - tests performed                                          & AFG                                                                    & 2022-01-29                                                             & http://www.emro.who.int/images/stories/coronavirus/covid-sitrep-28.pdf & WHO Regional Office for the Eastern Mediterranean                      &                                                                        & 853003                                                                 & NA                                                                     & 21.272                                                                 & NA                                                                     & NA                                                                     & NA                                                                     & NA                                                                     & NA                                                                     & Afghanistan                                                           \\\\\n",
       "\t Afghanistan - tests performed                                          & AFG                                                                    & 2022-01-30                                                             &                                                                        &                                                                        &                                                                        &     NA                                                                 & NA                                                                     &     NA                                                                 & NA                                                                     & NA                                                                     & NA                                                                     & NA                                                                     & NA                                                                     & Afghanistan                                                           \\\\\n",
       "\t Afghanistan - tests performed                                          & AFG                                                                    & 2022-01-31                                                             &                                                                        &                                                                        &                                                                        &     NA                                                                 & NA                                                                     &     NA                                                                 & NA                                                                     & NA                                                                     & NA                                                                     & NA                                                                     & NA                                                                     & Afghanistan                                                           \\\\\n",
       "\t Afghanistan - tests performed                                          & AFG                                                                    & 2022-02-01                                                             &                                                                        &                                                                        &                                                                        &     NA                                                                 & NA                                                                     &     NA                                                                 & NA                                                                     & NA                                                                     & NA                                                                     & NA                                                                     & NA                                                                     & Afghanistan                                                           \\\\\n",
       "\t Afghanistan - tests performed                                          & AFG                                                                    & 2022-02-02                                                             &                                                                        &                                                                        &                                                                        &     NA                                                                 & NA                                                                     &     NA                                                                 & NA                                                                     & NA                                                                     & NA                                                                     & NA                                                                     & NA                                                                     & Afghanistan                                                           \\\\\n",
       "\t Afghanistan - tests performed                                          & AFG                                                                    & 2022-02-03                                                             &                                                                        &                                                                        &                                                                        &     NA                                                                 & NA                                                                     &     NA                                                                 & NA                                                                     & NA                                                                     & NA                                                                     & NA                                                                     & NA                                                                     & Afghanistan                                                           \\\\\n",
       "\\end{tabular}\n"
      ],
      "text/markdown": [
       "\n",
       "| Entity | ISO.code | Date | Source.URL | Source.label | Notes | Cumulative.total | Daily.change.in.cumulative.total | Cumulative.total.per.thousand | Daily.change.in.cumulative.total.per.thousand | X7.day.smoothed.daily.change | X7.day.smoothed.daily.change.per.thousand | Short.term.positive.rate | Short.term.tests.per.case | location |\n",
       "|---|---|---|---|---|---|---|---|---|---|---|---|---|---|---|\n",
       "| Afghanistan - tests performed                                          | AFG                                                                    | 2022-01-29                                                             | http://www.emro.who.int/images/stories/coronavirus/covid-sitrep-28.pdf | WHO Regional Office for the Eastern Mediterranean                      |                                                                        | 853003                                                                 | NA                                                                     | 21.272                                                                 | NA                                                                     | NA                                                                     | NA                                                                     | NA                                                                     | NA                                                                     | Afghanistan                                                            |\n",
       "| Afghanistan - tests performed                                          | AFG                                                                    | 2022-01-30                                                             |                                                                        |                                                                        |                                                                        |     NA                                                                 | NA                                                                     |     NA                                                                 | NA                                                                     | NA                                                                     | NA                                                                     | NA                                                                     | NA                                                                     | Afghanistan                                                            |\n",
       "| Afghanistan - tests performed                                          | AFG                                                                    | 2022-01-31                                                             |                                                                        |                                                                        |                                                                        |     NA                                                                 | NA                                                                     |     NA                                                                 | NA                                                                     | NA                                                                     | NA                                                                     | NA                                                                     | NA                                                                     | Afghanistan                                                            |\n",
       "| Afghanistan - tests performed                                          | AFG                                                                    | 2022-02-01                                                             |                                                                        |                                                                        |                                                                        |     NA                                                                 | NA                                                                     |     NA                                                                 | NA                                                                     | NA                                                                     | NA                                                                     | NA                                                                     | NA                                                                     | Afghanistan                                                            |\n",
       "| Afghanistan - tests performed                                          | AFG                                                                    | 2022-02-02                                                             |                                                                        |                                                                        |                                                                        |     NA                                                                 | NA                                                                     |     NA                                                                 | NA                                                                     | NA                                                                     | NA                                                                     | NA                                                                     | NA                                                                     | Afghanistan                                                            |\n",
       "| Afghanistan - tests performed                                          | AFG                                                                    | 2022-02-03                                                             |                                                                        |                                                                        |                                                                        |     NA                                                                 | NA                                                                     |     NA                                                                 | NA                                                                     | NA                                                                     | NA                                                                     | NA                                                                     | NA                                                                     | Afghanistan                                                            |\n",
       "\n"
      ],
      "text/plain": [
       "  Entity                        ISO.code Date      \n",
       "1 Afghanistan - tests performed AFG      2022-01-29\n",
       "2 Afghanistan - tests performed AFG      2022-01-30\n",
       "3 Afghanistan - tests performed AFG      2022-01-31\n",
       "4 Afghanistan - tests performed AFG      2022-02-01\n",
       "5 Afghanistan - tests performed AFG      2022-02-02\n",
       "6 Afghanistan - tests performed AFG      2022-02-03\n",
       "  Source.URL                                                            \n",
       "1 http://www.emro.who.int/images/stories/coronavirus/covid-sitrep-28.pdf\n",
       "2                                                                       \n",
       "3                                                                       \n",
       "4                                                                       \n",
       "5                                                                       \n",
       "6                                                                       \n",
       "  Source.label                                      Notes Cumulative.total\n",
       "1 WHO Regional Office for the Eastern Mediterranean       853003          \n",
       "2                                                             NA          \n",
       "3                                                             NA          \n",
       "4                                                             NA          \n",
       "5                                                             NA          \n",
       "6                                                             NA          \n",
       "  Daily.change.in.cumulative.total Cumulative.total.per.thousand\n",
       "1 NA                               21.272                       \n",
       "2 NA                                   NA                       \n",
       "3 NA                                   NA                       \n",
       "4 NA                                   NA                       \n",
       "5 NA                                   NA                       \n",
       "6 NA                                   NA                       \n",
       "  Daily.change.in.cumulative.total.per.thousand X7.day.smoothed.daily.change\n",
       "1 NA                                            NA                          \n",
       "2 NA                                            NA                          \n",
       "3 NA                                            NA                          \n",
       "4 NA                                            NA                          \n",
       "5 NA                                            NA                          \n",
       "6 NA                                            NA                          \n",
       "  X7.day.smoothed.daily.change.per.thousand Short.term.positive.rate\n",
       "1 NA                                        NA                      \n",
       "2 NA                                        NA                      \n",
       "3 NA                                        NA                      \n",
       "4 NA                                        NA                      \n",
       "5 NA                                        NA                      \n",
       "6 NA                                        NA                      \n",
       "  Short.term.tests.per.case location   \n",
       "1 NA                        Afghanistan\n",
       "2 NA                        Afghanistan\n",
       "3 NA                        Afghanistan\n",
       "4 NA                        Afghanistan\n",
       "5 NA                        Afghanistan\n",
       "6 NA                        Afghanistan"
      ]
     },
     "metadata": {},
     "output_type": "display_data"
    }
   ],
   "source": [
    "testing <- transform(testing, location=sub(\" .*\", \"\", Entity))\n",
    "\n",
    "head(testing)"
   ]
  },
  {
   "cell_type": "markdown",
   "id": "57333dad",
   "metadata": {},
   "source": [
    "# Data Analyses"
   ]
  },
  {
   "cell_type": "markdown",
   "id": "25a3700f",
   "metadata": {},
   "source": [
    "### Method 1:\n",
    "\n",
    "We are looking purely at the deaths as a function of everything else. This being `Date`, `Location`, `Daily Testing`, `Daily ICU Occipancy`. We are looking at this as a density, to allow for better comparison between countries of different population magnitudes. We merge our data into a set:"
   ]
  },
  {
   "cell_type": "code",
   "execution_count": 13,
   "id": "3fb78681",
   "metadata": {},
   "outputs": [
    {
     "data": {
      "text/html": [
       "<table>\n",
       "<thead><tr><th scope=col>date</th><th scope=col>location</th><th scope=col>new_cases</th><th scope=col>new_deaths</th><th scope=col>total_cases</th><th scope=col>total_deaths</th><th scope=col>weekly_cases</th><th scope=col>weekly_deaths</th><th scope=col>biweekly_cases</th><th scope=col>biweekly_deaths</th><th scope=col>...</th><th scope=col>total_boosters</th><th scope=col>daily_vaccinations_raw</th><th scope=col>daily_vaccinations</th><th scope=col>total_vaccinations_per_hundred</th><th scope=col>people_vaccinated_per_hundred</th><th scope=col>people_fully_vaccinated_per_hundred</th><th scope=col>total_boosters_per_hundred</th><th scope=col>daily_vaccinations_per_million</th><th scope=col>daily_people_vaccinated</th><th scope=col>daily_people_vaccinated_per_hundred</th></tr></thead>\n",
       "<tbody>\n",
       "\t<tr><td>2021-02-22 </td><td>Afghanistan</td><td>13         </td><td>1          </td><td>55617      </td><td>2433       </td><td>103        </td><td> 6         </td><td>258        </td><td>20         </td><td>...        </td><td>NA         </td><td>NA         </td><td>  NA       </td><td> 0         </td><td> 0         </td><td>NA         </td><td>NA         </td><td>NA         </td><td>  NA       </td><td>   NA      </td></tr>\n",
       "\t<tr><td>2021-02-23 </td><td>Afghanistan</td><td>29         </td><td>2          </td><td>55646      </td><td>2435       </td><td>128        </td><td> 7         </td><td>262        </td><td>21         </td><td>...        </td><td>NA         </td><td>NA         </td><td>1367       </td><td>NA         </td><td>NA         </td><td>NA         </td><td>NA         </td><td>33         </td><td>1367       </td><td>0.003      </td></tr>\n",
       "\t<tr><td>2021-02-24 </td><td>Afghanistan</td><td>18         </td><td>1          </td><td>55664      </td><td>2436       </td><td>124        </td><td> 8         </td><td>262        </td><td>18         </td><td>...        </td><td>NA         </td><td>NA         </td><td>1367       </td><td>NA         </td><td>NA         </td><td>NA         </td><td>NA         </td><td>33         </td><td>1367       </td><td>0.003      </td></tr>\n",
       "\t<tr><td>2021-02-25 </td><td>Afghanistan</td><td>16         </td><td>2          </td><td>55680      </td><td>2438       </td><td>123        </td><td> 8         </td><td>260        </td><td>19         </td><td>...        </td><td>NA         </td><td>NA         </td><td>1367       </td><td>NA         </td><td>NA         </td><td>NA         </td><td>NA         </td><td>33         </td><td>1367       </td><td>0.003      </td></tr>\n",
       "\t<tr><td>2021-02-26 </td><td>Afghanistan</td><td>16         </td><td>4          </td><td>55696      </td><td>2442       </td><td>121        </td><td>12         </td><td>251        </td><td>18         </td><td>...        </td><td>NA         </td><td>NA         </td><td>1367       </td><td>NA         </td><td>NA         </td><td>NA         </td><td>NA         </td><td>33         </td><td>1367       </td><td>0.003      </td></tr>\n",
       "\t<tr><td>2021-02-27 </td><td>Afghanistan</td><td>11         </td><td>1          </td><td>55707      </td><td>2443       </td><td>127        </td><td>13         </td><td>234        </td><td>16         </td><td>...        </td><td>NA         </td><td>NA         </td><td>1367       </td><td>NA         </td><td>NA         </td><td>NA         </td><td>NA         </td><td>33         </td><td>1367       </td><td>0.003      </td></tr>\n",
       "</tbody>\n",
       "</table>\n"
      ],
      "text/latex": [
       "\\begin{tabular}{r|llllllllllllllllllllllll}\n",
       " date & location & new\\_cases & new\\_deaths & total\\_cases & total\\_deaths & weekly\\_cases & weekly\\_deaths & biweekly\\_cases & biweekly\\_deaths & ... & total\\_boosters & daily\\_vaccinations\\_raw & daily\\_vaccinations & total\\_vaccinations\\_per\\_hundred & people\\_vaccinated\\_per\\_hundred & people\\_fully\\_vaccinated\\_per\\_hundred & total\\_boosters\\_per\\_hundred & daily\\_vaccinations\\_per\\_million & daily\\_people\\_vaccinated & daily\\_people\\_vaccinated\\_per\\_hundred\\\\\n",
       "\\hline\n",
       "\t 2021-02-22  & Afghanistan & 13          & 1           & 55617       & 2433        & 103         &  6          & 258         & 20          & ...         & NA          & NA          &   NA        &  0          &  0          & NA          & NA          & NA          &   NA        &    NA      \\\\\n",
       "\t 2021-02-23  & Afghanistan & 29          & 2           & 55646       & 2435        & 128         &  7          & 262         & 21          & ...         & NA          & NA          & 1367        & NA          & NA          & NA          & NA          & 33          & 1367        & 0.003      \\\\\n",
       "\t 2021-02-24  & Afghanistan & 18          & 1           & 55664       & 2436        & 124         &  8          & 262         & 18          & ...         & NA          & NA          & 1367        & NA          & NA          & NA          & NA          & 33          & 1367        & 0.003      \\\\\n",
       "\t 2021-02-25  & Afghanistan & 16          & 2           & 55680       & 2438        & 123         &  8          & 260         & 19          & ...         & NA          & NA          & 1367        & NA          & NA          & NA          & NA          & 33          & 1367        & 0.003      \\\\\n",
       "\t 2021-02-26  & Afghanistan & 16          & 4           & 55696       & 2442        & 121         & 12          & 251         & 18          & ...         & NA          & NA          & 1367        & NA          & NA          & NA          & NA          & 33          & 1367        & 0.003      \\\\\n",
       "\t 2021-02-27  & Afghanistan & 11          & 1           & 55707       & 2443        & 127         & 13          & 234         & 16          & ...         & NA          & NA          & 1367        & NA          & NA          & NA          & NA          & 33          & 1367        & 0.003      \\\\\n",
       "\\end{tabular}\n"
      ],
      "text/markdown": [
       "\n",
       "| date | location | new_cases | new_deaths | total_cases | total_deaths | weekly_cases | weekly_deaths | biweekly_cases | biweekly_deaths | ... | total_boosters | daily_vaccinations_raw | daily_vaccinations | total_vaccinations_per_hundred | people_vaccinated_per_hundred | people_fully_vaccinated_per_hundred | total_boosters_per_hundred | daily_vaccinations_per_million | daily_people_vaccinated | daily_people_vaccinated_per_hundred |\n",
       "|---|---|---|---|---|---|---|---|---|---|---|---|---|---|---|---|---|---|---|---|---|\n",
       "| 2021-02-22  | Afghanistan | 13          | 1           | 55617       | 2433        | 103         |  6          | 258         | 20          | ...         | NA          | NA          |   NA        |  0          |  0          | NA          | NA          | NA          |   NA        |    NA       |\n",
       "| 2021-02-23  | Afghanistan | 29          | 2           | 55646       | 2435        | 128         |  7          | 262         | 21          | ...         | NA          | NA          | 1367        | NA          | NA          | NA          | NA          | 33          | 1367        | 0.003       |\n",
       "| 2021-02-24  | Afghanistan | 18          | 1           | 55664       | 2436        | 124         |  8          | 262         | 18          | ...         | NA          | NA          | 1367        | NA          | NA          | NA          | NA          | 33          | 1367        | 0.003       |\n",
       "| 2021-02-25  | Afghanistan | 16          | 2           | 55680       | 2438        | 123         |  8          | 260         | 19          | ...         | NA          | NA          | 1367        | NA          | NA          | NA          | NA          | 33          | 1367        | 0.003       |\n",
       "| 2021-02-26  | Afghanistan | 16          | 4           | 55696       | 2442        | 121         | 12          | 251         | 18          | ...         | NA          | NA          | 1367        | NA          | NA          | NA          | NA          | 33          | 1367        | 0.003       |\n",
       "| 2021-02-27  | Afghanistan | 11          | 1           | 55707       | 2443        | 127         | 13          | 234         | 16          | ...         | NA          | NA          | 1367        | NA          | NA          | NA          | NA          | 33          | 1367        | 0.003       |\n",
       "\n"
      ],
      "text/plain": [
       "  date       location    new_cases new_deaths total_cases total_deaths\n",
       "1 2021-02-22 Afghanistan 13        1          55617       2433        \n",
       "2 2021-02-23 Afghanistan 29        2          55646       2435        \n",
       "3 2021-02-24 Afghanistan 18        1          55664       2436        \n",
       "4 2021-02-25 Afghanistan 16        2          55680       2438        \n",
       "5 2021-02-26 Afghanistan 16        4          55696       2442        \n",
       "6 2021-02-27 Afghanistan 11        1          55707       2443        \n",
       "  weekly_cases weekly_deaths biweekly_cases biweekly_deaths ... total_boosters\n",
       "1 103           6            258            20              ... NA            \n",
       "2 128           7            262            21              ... NA            \n",
       "3 124           8            262            18              ... NA            \n",
       "4 123           8            260            19              ... NA            \n",
       "5 121          12            251            18              ... NA            \n",
       "6 127          13            234            16              ... NA            \n",
       "  daily_vaccinations_raw daily_vaccinations total_vaccinations_per_hundred\n",
       "1 NA                       NA                0                            \n",
       "2 NA                     1367               NA                            \n",
       "3 NA                     1367               NA                            \n",
       "4 NA                     1367               NA                            \n",
       "5 NA                     1367               NA                            \n",
       "6 NA                     1367               NA                            \n",
       "  people_vaccinated_per_hundred people_fully_vaccinated_per_hundred\n",
       "1  0                            NA                                 \n",
       "2 NA                            NA                                 \n",
       "3 NA                            NA                                 \n",
       "4 NA                            NA                                 \n",
       "5 NA                            NA                                 \n",
       "6 NA                            NA                                 \n",
       "  total_boosters_per_hundred daily_vaccinations_per_million\n",
       "1 NA                         NA                            \n",
       "2 NA                         33                            \n",
       "3 NA                         33                            \n",
       "4 NA                         33                            \n",
       "5 NA                         33                            \n",
       "6 NA                         33                            \n",
       "  daily_people_vaccinated daily_people_vaccinated_per_hundred\n",
       "1   NA                       NA                              \n",
       "2 1367                    0.003                              \n",
       "3 1367                    0.003                              \n",
       "4 1367                    0.003                              \n",
       "5 1367                    0.003                              \n",
       "6 1367                    0.003                              "
      ]
     },
     "metadata": {},
     "output_type": "display_data"
    }
   ],
   "source": [
    "data.method1 = setDT(deaths)[setDT(vaccinations),on=c(\"location\",\"date\")]\n",
    "head(data.method1)"
   ]
  },
  {
   "cell_type": "code",
   "execution_count": 19,
   "id": "9a4ad5c2",
   "metadata": {},
   "outputs": [
    {
     "data": {
      "text/html": [
       "'howdy'"
      ],
      "text/latex": [
       "'howdy'"
      ],
      "text/markdown": [
       "'howdy'"
      ],
      "text/plain": [
       "[1] \"howdy\""
      ]
     },
     "metadata": {},
     "output_type": "display_data"
    }
   ],
   "source": [
    "sub(\" .*\", \"\", \"howdy partner\")"
   ]
  },
  {
   "cell_type": "code",
   "execution_count": null,
   "id": "f29fc18a",
   "metadata": {},
   "outputs": [],
   "source": []
  }
 ],
 "metadata": {
  "kernelspec": {
   "display_name": "R",
   "language": "R",
   "name": "ir"
  },
  "language_info": {
   "codemirror_mode": "r",
   "file_extension": ".r",
   "mimetype": "text/x-r-source",
   "name": "R",
   "pygments_lexer": "r",
   "version": "3.6.1"
  }
 },
 "nbformat": 4,
 "nbformat_minor": 5
}
