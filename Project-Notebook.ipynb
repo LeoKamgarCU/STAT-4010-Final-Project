{
 "cells": [
  {
   "cell_type": "markdown",
   "id": "5dfdbf0d",
   "metadata": {},
   "source": [
    "### R-Package Download"
   ]
  },
  {
   "cell_type": "code",
   "execution_count": 1,
   "id": "0e20c5ec",
   "metadata": {},
   "outputs": [
    {
     "name": "stderr",
     "output_type": "stream",
     "text": [
      "Registered S3 methods overwritten by 'ggplot2':\n",
      "  method         from \n",
      "  [.quosures     rlang\n",
      "  c.quosures     rlang\n",
      "  print.quosures rlang\n",
      "Loading required package: carData\n",
      "corrplot 0.84 loaded\n"
     ]
    }
   ],
   "source": [
    "library(ggplot2) # For Plot Visualizations\n",
    "library(car) # For Variance Inflation Factor function -- vif()\n",
    "library(corrplot) # For Correlation Visualizations\n",
    "\n",
    "# Downloading \n",
    "vaccinations = read.csv(url(paste0(\"https://raw.githubusercontent.com/owid/covid-19-data/master/public/data/vaccinations/vaccinations.csv\")))\n"
   ]
  },
  {
   "cell_type": "markdown",
   "id": "6011fbe5",
   "metadata": {},
   "source": [
    "### Data Download"
   ]
  },
  {
   "cell_type": "code",
   "execution_count": null,
   "id": "9da2ca51",
   "metadata": {},
   "outputs": [],
   "source": []
  }
 ],
 "metadata": {
  "kernelspec": {
   "display_name": "R",
   "language": "R",
   "name": "ir"
  },
  "language_info": {
   "codemirror_mode": "r",
   "file_extension": ".r",
   "mimetype": "text/x-r-source",
   "name": "R",
   "pygments_lexer": "r",
   "version": "3.6.1"
  }
 },
 "nbformat": 4,
 "nbformat_minor": 5
}
